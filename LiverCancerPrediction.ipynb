{
  "nbformat": 4,
  "nbformat_minor": 0,
  "metadata": {
    "colab": {
      "provenance": [],
      "gpuType": "T4",
      "toc_visible": true
    },
    "kernelspec": {
      "name": "python3",
      "display_name": "Python 3"
    },
    "language_info": {
      "name": "python"
    },
    "accelerator": "GPU"
  },
  "cells": [
    {
      "cell_type": "markdown",
      "source": [
        "# Dataset"
      ],
      "metadata": {
        "id": "ePc19feG8x2J"
      }
    },
    {
      "cell_type": "code",
      "source": [
        "from google.colab import drive\n",
        "drive.mount('/content/drive')"
      ],
      "metadata": {
        "colab": {
          "base_uri": "https://localhost:8080/"
        },
        "id": "qPM0DFskVod-",
        "outputId": "a8ee34e6-958e-437d-d3d6-7ef015deaccc"
      },
      "execution_count": null,
      "outputs": [
        {
          "output_type": "stream",
          "name": "stdout",
          "text": [
            "Mounted at /content/drive\n"
          ]
        }
      ]
    },
    {
      "cell_type": "markdown",
      "source": [
        "### Importing Libraries"
      ],
      "metadata": {
        "id": "IQOXYyTc9B56"
      }
    },
    {
      "cell_type": "code",
      "source": [
        "import pandas as pd\n",
        "import matplotlib.pyplot as plt\n",
        "import numpy as np\n",
        "import xgboost as xgb\n",
        "from xgboost import XGBClassifier\n",
        "from imblearn.over_sampling import SMOTE\n",
        "from scipy.stats import chi2_contingency\n",
        "from sklearn.model_selection import train_test_split\n",
        "from sklearn.preprocessing import MinMaxScaler\n",
        "from sklearn.ensemble import RandomForestClassifier\n",
        "from sklearn.svm import SVC\n",
        "from sklearn.feature_selection import RFE\n",
        "from sklearn.metrics import accuracy_score, classification_report, confusion_matrix"
      ],
      "metadata": {
        "id": "D5JKOtvr9BSX"
      },
      "execution_count": null,
      "outputs": []
    },
    {
      "cell_type": "markdown",
      "source": [
        "### Import, Load, and Display Dataset"
      ],
      "metadata": {
        "id": "qw5VNImR9b5h"
      }
    },
    {
      "cell_type": "code",
      "source": [
        "# Define file path\n",
        "hcc_filepath = '/content/hcc-dataCSV.csv'\n",
        "\n",
        "# Load datasets\n",
        "hcc_df = pd.read_csv(hcc_filepath)\n",
        "df = pd.read_csv(hcc_filepath)\n",
        "\n",
        "# Display the first few rows of the dataset to verify they were loaded correctly\n",
        "print(\"HCC Dataset:\")\n",
        "print(df.head())\n",
        "\n",
        "# Optional: Display basic information about the dataset\n",
        "print(\"\\nHCC Dataset Info:\")\n",
        "print(df.info())"
      ],
      "metadata": {
        "colab": {
          "base_uri": "https://localhost:8080/"
        },
        "id": "qIN6qtiC9ko7",
        "outputId": "09fd355d-fc03-4d50-a177-5642a4ef240a"
      },
      "execution_count": null,
      "outputs": [
        {
          "output_type": "stream",
          "name": "stdout",
          "text": [
            "HCC Dataset:\n",
            "   Gender Symptoms  Alcohol Hepatitis B Surface Antigen (HBsAg)  \\\n",
            "0       1        0        1                                   0   \n",
            "1       0        ?        0                                   0   \n",
            "2       1        0        1                                   1   \n",
            "3       1        1        1                                   0   \n",
            "4       1        1        1                                   1   \n",
            "\n",
            "  Hepatitis B e Antigen (HBeAg) Hepatitis B Core Antibody (HBcAb)  \\\n",
            "0                             0                                 0   \n",
            "1                             0                                 0   \n",
            "2                             0                                 1   \n",
            "3                             0                                 0   \n",
            "4                             0                                 1   \n",
            "\n",
            "  Hepatitis C Virus Antibody (HCVAb)  Cirrhosis Endemic Countries (Endemic)  \\\n",
            "0                                  0          1                           0   \n",
            "1                                  1          1                           ?   \n",
            "2                                  0          1                           0   \n",
            "3                                  0          1                           0   \n",
            "4                                  0          1                           0   \n",
            "\n",
            "  Smoking  ... Alkaline Phosphatase (ALP) Total Proteins (TP) Creatinine  \\\n",
            "0       1  ...                        150                 7.1        0.7   \n",
            "1       ?  ...                          ?                   ?          ?   \n",
            "2       1  ...                        109                   7        2.1   \n",
            "3       1  ...                        174                 8.1       1.11   \n",
            "4       1  ...                        109                 6.9        1.8   \n",
            "\n",
            "  Number of Nodules (Nodules) Major Dimension of Nodule (Major Dim)  \\\n",
            "0                           1                                   3.5   \n",
            "1                           1                                   1.8   \n",
            "2                           5                                    13   \n",
            "3                           2                                  15.7   \n",
            "4                           1                                     9   \n",
            "\n",
            "  Direct Bilirubin (Dir. Bil) Iron Oxygen Saturation (Sat) Ferritin  \\\n",
            "0                         0.5    ?                       ?        ?   \n",
            "1                           ?    ?                       ?        ?   \n",
            "2                         0.1   28                       6       16   \n",
            "3                         0.2    ?                       ?        ?   \n",
            "4                           ?   59                      15       22   \n",
            "\n",
            "  Class Attribute (Class)  \n",
            "0                       1  \n",
            "1                       1  \n",
            "2                       1  \n",
            "3                       0  \n",
            "4                       1  \n",
            "\n",
            "[5 rows x 50 columns]\n",
            "\n",
            "HCC Dataset Info:\n",
            "<class 'pandas.core.frame.DataFrame'>\n",
            "RangeIndex: 165 entries, 0 to 164\n",
            "Data columns (total 50 columns):\n",
            " #   Column                                     Non-Null Count  Dtype \n",
            "---  ------                                     --------------  ----- \n",
            " 0   Gender                                     165 non-null    int64 \n",
            " 1   Symptoms                                   165 non-null    object\n",
            " 2   Alcohol                                    165 non-null    int64 \n",
            " 3   Hepatitis B Surface Antigen (HBsAg)        165 non-null    object\n",
            " 4   Hepatitis B e Antigen (HBeAg)              165 non-null    object\n",
            " 5   Hepatitis B Core Antibody (HBcAb)          165 non-null    object\n",
            " 6   Hepatitis C Virus Antibody (HCVAb)         165 non-null    object\n",
            " 7   Cirrhosis                                  165 non-null    int64 \n",
            " 8   Endemic Countries (Endemic)                165 non-null    object\n",
            " 9   Smoking                                    165 non-null    object\n",
            " 10  Diabetes                                   165 non-null    object\n",
            " 11  Obesity                                    165 non-null    object\n",
            " 12  Hemochromatosis (Hemochro)                 165 non-null    object\n",
            " 13  Arterial Hypertension (AHT)                165 non-null    object\n",
            " 14  Chronic Renal Insufficiency (CRI)          165 non-null    object\n",
            " 15  Human Immunodeficiency Virus (HIV)         165 non-null    object\n",
            " 16  Nonalcoholic Steatohepatitis (NASH)        165 non-null    object\n",
            " 17  Esophageal Varices (Varices)               165 non-null    object\n",
            " 18  Splenomegaly (Spleno)                      165 non-null    object\n",
            " 19  Portal Hypertension (PHT)                  165 non-null    object\n",
            " 20  Portal Vein Thrombosis (PVT)               165 non-null    object\n",
            " 21  Liver Metastasis (Metastasis)              165 non-null    object\n",
            " 22  Radiological Hallmark (Hallmark)           165 non-null    object\n",
            " 23  Age at diagnosis (Age)                     165 non-null    int64 \n",
            " 24  Grams of Alcohol per day (Grams/day)       165 non-null    object\n",
            " 25  Packs of cigarettes per year (Packs/year)  165 non-null    object\n",
            " 26  Performance Status (PS)                    165 non-null    int64 \n",
            " 27  Encephalopathy degree                      165 non-null    object\n",
            " 28  Ascites degree                             165 non-null    object\n",
            " 29  International Normalised Ratio (INR)       165 non-null    object\n",
            " 30  Alpha-Fetoprotein (AFP)                    165 non-null    object\n",
            " 31  Hemoglobin                                 165 non-null    object\n",
            " 32  Mean Corpuscular Volume (MCV)              165 non-null    object\n",
            " 33  Leukocytes                                 165 non-null    object\n",
            " 34  Platelets                                  165 non-null    object\n",
            " 35  Albumin                                    165 non-null    object\n",
            " 36  Total Bilirubin (Total Bil)                165 non-null    object\n",
            " 37  Alanine Transaminase (ALT)                 165 non-null    object\n",
            " 38  Aspartate Transaminase (AST)               165 non-null    object\n",
            " 39  Gamma Glutamyl Transferase (GGT)           165 non-null    object\n",
            " 40  Alkaline Phosphatase (ALP)                 165 non-null    object\n",
            " 41  Total Proteins (TP)                        165 non-null    object\n",
            " 42  Creatinine                                 165 non-null    object\n",
            " 43  Number of Nodules (Nodules)                165 non-null    object\n",
            " 44  Major Dimension of Nodule (Major Dim)      165 non-null    object\n",
            " 45  Direct Bilirubin (Dir. Bil)                165 non-null    object\n",
            " 46  Iron                                       165 non-null    object\n",
            " 47  Oxygen Saturation (Sat)                    165 non-null    object\n",
            " 48  Ferritin                                   165 non-null    object\n",
            " 49  Class Attribute (Class)                    165 non-null    int64 \n",
            "dtypes: int64(6), object(44)\n",
            "memory usage: 64.6+ KB\n",
            "None\n"
          ]
        }
      ]
    },
    {
      "cell_type": "markdown",
      "source": [
        "# Data Preprocessing"
      ],
      "metadata": {
        "id": "o0cJ64cP_BKr"
      }
    },
    {
      "cell_type": "markdown",
      "source": [
        "### Checking for numerical and categorical columns"
      ],
      "metadata": {
        "id": "f_as2ESGe5I8"
      }
    },
    {
      "cell_type": "code",
      "source": [
        "# Threshold for the maximum unique values to consider a column as categorical\n",
        "CATEGORICAL_THRESHOLD = 5\n",
        "\n",
        "# Initialize trackers\n",
        "categorical_columns = []\n",
        "numerical_columns = []\n",
        "\n",
        "for column in df.drop(columns='Class Attribute (Class)').columns:\n",
        "    # Remove '?' and NaN values\n",
        "    filtered_values = df[column][df[column] != '?'].dropna()\n",
        "\n",
        "    # Try converting the filtered values to numeric\n",
        "    try:\n",
        "        numeric_values = pd.to_numeric(filtered_values)\n",
        "        # Check if all values are integers\n",
        "        if (numeric_values == numeric_values.astype(int)).all():\n",
        "            # Check if the number of unique values is below the threshold\n",
        "            if numeric_values.nunique() <= CATEGORICAL_THRESHOLD:\n",
        "                categorical_columns.append(column)\n",
        "            else:\n",
        "                numerical_columns.append(column)\n",
        "        else:\n",
        "            numerical_columns.append(column)\n",
        "    except ValueError:\n",
        "        # If conversion fails, it's not a numerical column\n",
        "        pass\n",
        "\n",
        "print(categorical_columns)\n",
        "print(numerical_columns)"
      ],
      "metadata": {
        "colab": {
          "base_uri": "https://localhost:8080/"
        },
        "id": "lA16aXb-fBmL",
        "outputId": "80d2fd1b-e9df-400f-8037-87aaf4d5313f"
      },
      "execution_count": null,
      "outputs": [
        {
          "output_type": "stream",
          "name": "stdout",
          "text": [
            "['Gender', 'Symptoms', 'Alcohol', 'Hepatitis B Surface Antigen (HBsAg)', 'Hepatitis B e Antigen (HBeAg)', 'Hepatitis B Core Antibody (HBcAb)', 'Hepatitis C Virus Antibody (HCVAb)', 'Cirrhosis', 'Endemic Countries (Endemic)', 'Smoking', 'Diabetes', 'Obesity', 'Hemochromatosis (Hemochro)', 'Arterial Hypertension (AHT)', 'Chronic Renal Insufficiency (CRI)', 'Human Immunodeficiency Virus (HIV)', 'Nonalcoholic Steatohepatitis (NASH)', 'Esophageal Varices (Varices)', 'Splenomegaly (Spleno)', 'Portal Hypertension (PHT)', 'Portal Vein Thrombosis (PVT)', 'Liver Metastasis (Metastasis)', 'Radiological Hallmark (Hallmark)', 'Performance Status (PS)', 'Encephalopathy degree', 'Ascites degree']\n",
            "['Age at diagnosis (Age)', 'Grams of Alcohol per day (Grams/day)', 'Packs of cigarettes per year (Packs/year)', 'International Normalised Ratio (INR)', 'Alpha-Fetoprotein (AFP)', 'Hemoglobin', 'Mean Corpuscular Volume (MCV)', 'Leukocytes', 'Platelets', 'Albumin', 'Total Bilirubin (Total Bil)', 'Alanine Transaminase (ALT)', 'Aspartate Transaminase (AST)', 'Gamma Glutamyl Transferase (GGT)', 'Alkaline Phosphatase (ALP)', 'Total Proteins (TP)', 'Creatinine', 'Number of Nodules (Nodules)', 'Major Dimension of Nodule (Major Dim)', 'Direct Bilirubin (Dir. Bil)', 'Iron', 'Oxygen Saturation (Sat)', 'Ferritin']\n"
          ]
        }
      ]
    },
    {
      "cell_type": "markdown",
      "source": [
        "### Checking for missing values"
      ],
      "metadata": {
        "id": "-FVLKGFu_ai9"
      }
    },
    {
      "cell_type": "code",
      "source": [
        "print(\"\\nMissing Data HCC Dataset:\")\n",
        "\n",
        "# Count Null/NaN values\n",
        "print(\"Count of Null/NaN values in each column:\")\n",
        "print(df.isnull().sum())\n",
        "\n",
        "# Count '?' placeholders in each column\n",
        "print(\"\\nCount of '?' in each column:\")\n",
        "print((df == '?').sum())"
      ],
      "metadata": {
        "colab": {
          "base_uri": "https://localhost:8080/"
        },
        "id": "9jY9PAczsmkq",
        "outputId": "8e921d87-5643-4403-d328-f31a363b087b"
      },
      "execution_count": null,
      "outputs": [
        {
          "output_type": "stream",
          "name": "stdout",
          "text": [
            "\n",
            "Missing Data HCC Dataset:\n",
            "Count of Null/NaN values in each column:\n",
            "Gender                                       0\n",
            "Symptoms                                     0\n",
            "Alcohol                                      0\n",
            "Hepatitis B Surface Antigen (HBsAg)          0\n",
            "Hepatitis B e Antigen (HBeAg)                0\n",
            "Hepatitis B Core Antibody (HBcAb)            0\n",
            "Hepatitis C Virus Antibody (HCVAb)           0\n",
            "Cirrhosis                                    0\n",
            "Endemic Countries (Endemic)                  0\n",
            "Smoking                                      0\n",
            "Diabetes                                     0\n",
            "Obesity                                      0\n",
            "Hemochromatosis (Hemochro)                   0\n",
            "Arterial Hypertension (AHT)                  0\n",
            "Chronic Renal Insufficiency (CRI)            0\n",
            "Human Immunodeficiency Virus (HIV)           0\n",
            "Nonalcoholic Steatohepatitis (NASH)          0\n",
            "Esophageal Varices (Varices)                 0\n",
            "Splenomegaly (Spleno)                        0\n",
            "Portal Hypertension (PHT)                    0\n",
            "Portal Vein Thrombosis (PVT)                 0\n",
            "Liver Metastasis (Metastasis)                0\n",
            "Radiological Hallmark (Hallmark)             0\n",
            "Age at diagnosis (Age)                       0\n",
            "Grams of Alcohol per day (Grams/day)         0\n",
            "Packs of cigarettes per year (Packs/year)    0\n",
            "Performance Status (PS)                      0\n",
            "Encephalopathy degree                        0\n",
            "Ascites degree                               0\n",
            "International Normalised Ratio (INR)         0\n",
            "Alpha-Fetoprotein (AFP)                      0\n",
            "Hemoglobin                                   0\n",
            "Mean Corpuscular Volume (MCV)                0\n",
            "Leukocytes                                   0\n",
            "Platelets                                    0\n",
            "Albumin                                      0\n",
            "Total Bilirubin (Total Bil)                  0\n",
            "Alanine Transaminase (ALT)                   0\n",
            "Aspartate Transaminase (AST)                 0\n",
            "Gamma Glutamyl Transferase (GGT)             0\n",
            "Alkaline Phosphatase (ALP)                   0\n",
            "Total Proteins (TP)                          0\n",
            "Creatinine                                   0\n",
            "Number of Nodules (Nodules)                  0\n",
            "Major Dimension of Nodule (Major Dim)        0\n",
            "Direct Bilirubin (Dir. Bil)                  0\n",
            "Iron                                         0\n",
            "Oxygen Saturation (Sat)                      0\n",
            "Ferritin                                     0\n",
            "Class Attribute (Class)                      0\n",
            "dtype: int64\n",
            "\n",
            "Count of '?' in each column:\n",
            "Gender                                        0\n",
            "Symptoms                                     18\n",
            "Alcohol                                       0\n",
            "Hepatitis B Surface Antigen (HBsAg)          17\n",
            "Hepatitis B e Antigen (HBeAg)                39\n",
            "Hepatitis B Core Antibody (HBcAb)            24\n",
            "Hepatitis C Virus Antibody (HCVAb)            9\n",
            "Cirrhosis                                     0\n",
            "Endemic Countries (Endemic)                  39\n",
            "Smoking                                      41\n",
            "Diabetes                                      3\n",
            "Obesity                                      10\n",
            "Hemochromatosis (Hemochro)                   23\n",
            "Arterial Hypertension (AHT)                   3\n",
            "Chronic Renal Insufficiency (CRI)             2\n",
            "Human Immunodeficiency Virus (HIV)           14\n",
            "Nonalcoholic Steatohepatitis (NASH)          22\n",
            "Esophageal Varices (Varices)                 52\n",
            "Splenomegaly (Spleno)                        15\n",
            "Portal Hypertension (PHT)                    11\n",
            "Portal Vein Thrombosis (PVT)                  3\n",
            "Liver Metastasis (Metastasis)                 4\n",
            "Radiological Hallmark (Hallmark)              2\n",
            "Age at diagnosis (Age)                        0\n",
            "Grams of Alcohol per day (Grams/day)         48\n",
            "Packs of cigarettes per year (Packs/year)    53\n",
            "Performance Status (PS)                       0\n",
            "Encephalopathy degree                         1\n",
            "Ascites degree                                2\n",
            "International Normalised Ratio (INR)          4\n",
            "Alpha-Fetoprotein (AFP)                       8\n",
            "Hemoglobin                                    3\n",
            "Mean Corpuscular Volume (MCV)                 3\n",
            "Leukocytes                                    3\n",
            "Platelets                                     3\n",
            "Albumin                                       6\n",
            "Total Bilirubin (Total Bil)                   5\n",
            "Alanine Transaminase (ALT)                    4\n",
            "Aspartate Transaminase (AST)                  3\n",
            "Gamma Glutamyl Transferase (GGT)              3\n",
            "Alkaline Phosphatase (ALP)                    3\n",
            "Total Proteins (TP)                          11\n",
            "Creatinine                                    7\n",
            "Number of Nodules (Nodules)                   2\n",
            "Major Dimension of Nodule (Major Dim)        20\n",
            "Direct Bilirubin (Dir. Bil)                  44\n",
            "Iron                                         79\n",
            "Oxygen Saturation (Sat)                      80\n",
            "Ferritin                                     80\n",
            "Class Attribute (Class)                       0\n",
            "dtype: int64\n"
          ]
        }
      ]
    },
    {
      "cell_type": "markdown",
      "source": [
        "### Handling missing values"
      ],
      "metadata": {
        "id": "9vw4g5kWsp1v"
      }
    },
    {
      "cell_type": "code",
      "source": [
        "# Remove the specified columns from categorical and numerical trackers\n",
        "categorical_columns = [col for col in categorical_columns]\n",
        "numerical_columns = [col for col in numerical_columns]\n",
        "\n",
        "print(\"\")\n",
        "# Imputation\n",
        "for column in categorical_columns:\n",
        "    # Replace '?' with mode for categorical columns\n",
        "    df[column] = df[column].replace('?', np.nan)\n",
        "    mode_value = df[column].mode().iloc[0]\n",
        "    df[column] = df[column].fillna(mode_value)\n",
        "\n",
        "for column in numerical_columns:\n",
        "    # Replace '?' with NaN for numerical columns\n",
        "    df[column] = df[column].replace('?', np.nan)\n",
        "    df[column] = pd.to_numeric(df[column], errors='coerce')\n",
        "    median_value = df[column].median()\n",
        "    df[column] = df[column].fillna(median_value)\n",
        "print(\"\")\n",
        "\n",
        "# Count Null/NaN values\n",
        "print(\"Count of Null/NaN values in each column after imputation:\")\n",
        "print(df.isnull().sum())\n",
        "\n",
        "# Count '?' placeholders in each column\n",
        "print(\"\\nCount of '?' in each column after imputation:\")\n",
        "print((df == '?').sum())\n",
        "\n",
        "print(df.head())"
      ],
      "metadata": {
        "colab": {
          "base_uri": "https://localhost:8080/"
        },
        "id": "GEJ_7iig_aRS",
        "outputId": "00721200-a45b-40a4-a463-a60eecef24d3"
      },
      "execution_count": null,
      "outputs": [
        {
          "output_type": "stream",
          "name": "stdout",
          "text": [
            "\n",
            "\n",
            "Count of Null/NaN values in each column after imputation:\n",
            "Gender                                       0\n",
            "Symptoms                                     0\n",
            "Alcohol                                      0\n",
            "Hepatitis B Surface Antigen (HBsAg)          0\n",
            "Hepatitis B e Antigen (HBeAg)                0\n",
            "Hepatitis B Core Antibody (HBcAb)            0\n",
            "Hepatitis C Virus Antibody (HCVAb)           0\n",
            "Cirrhosis                                    0\n",
            "Endemic Countries (Endemic)                  0\n",
            "Smoking                                      0\n",
            "Diabetes                                     0\n",
            "Obesity                                      0\n",
            "Hemochromatosis (Hemochro)                   0\n",
            "Arterial Hypertension (AHT)                  0\n",
            "Chronic Renal Insufficiency (CRI)            0\n",
            "Human Immunodeficiency Virus (HIV)           0\n",
            "Nonalcoholic Steatohepatitis (NASH)          0\n",
            "Esophageal Varices (Varices)                 0\n",
            "Splenomegaly (Spleno)                        0\n",
            "Portal Hypertension (PHT)                    0\n",
            "Portal Vein Thrombosis (PVT)                 0\n",
            "Liver Metastasis (Metastasis)                0\n",
            "Radiological Hallmark (Hallmark)             0\n",
            "Age at diagnosis (Age)                       0\n",
            "Grams of Alcohol per day (Grams/day)         0\n",
            "Packs of cigarettes per year (Packs/year)    0\n",
            "Performance Status (PS)                      0\n",
            "Encephalopathy degree                        0\n",
            "Ascites degree                               0\n",
            "International Normalised Ratio (INR)         0\n",
            "Alpha-Fetoprotein (AFP)                      0\n",
            "Hemoglobin                                   0\n",
            "Mean Corpuscular Volume (MCV)                0\n",
            "Leukocytes                                   0\n",
            "Platelets                                    0\n",
            "Albumin                                      0\n",
            "Total Bilirubin (Total Bil)                  0\n",
            "Alanine Transaminase (ALT)                   0\n",
            "Aspartate Transaminase (AST)                 0\n",
            "Gamma Glutamyl Transferase (GGT)             0\n",
            "Alkaline Phosphatase (ALP)                   0\n",
            "Total Proteins (TP)                          0\n",
            "Creatinine                                   0\n",
            "Number of Nodules (Nodules)                  0\n",
            "Major Dimension of Nodule (Major Dim)        0\n",
            "Direct Bilirubin (Dir. Bil)                  0\n",
            "Iron                                         0\n",
            "Oxygen Saturation (Sat)                      0\n",
            "Ferritin                                     0\n",
            "Class Attribute (Class)                      0\n",
            "dtype: int64\n",
            "\n",
            "Count of '?' in each column after imputation:\n",
            "Gender                                       0\n",
            "Symptoms                                     0\n",
            "Alcohol                                      0\n",
            "Hepatitis B Surface Antigen (HBsAg)          0\n",
            "Hepatitis B e Antigen (HBeAg)                0\n",
            "Hepatitis B Core Antibody (HBcAb)            0\n",
            "Hepatitis C Virus Antibody (HCVAb)           0\n",
            "Cirrhosis                                    0\n",
            "Endemic Countries (Endemic)                  0\n",
            "Smoking                                      0\n",
            "Diabetes                                     0\n",
            "Obesity                                      0\n",
            "Hemochromatosis (Hemochro)                   0\n",
            "Arterial Hypertension (AHT)                  0\n",
            "Chronic Renal Insufficiency (CRI)            0\n",
            "Human Immunodeficiency Virus (HIV)           0\n",
            "Nonalcoholic Steatohepatitis (NASH)          0\n",
            "Esophageal Varices (Varices)                 0\n",
            "Splenomegaly (Spleno)                        0\n",
            "Portal Hypertension (PHT)                    0\n",
            "Portal Vein Thrombosis (PVT)                 0\n",
            "Liver Metastasis (Metastasis)                0\n",
            "Radiological Hallmark (Hallmark)             0\n",
            "Age at diagnosis (Age)                       0\n",
            "Grams of Alcohol per day (Grams/day)         0\n",
            "Packs of cigarettes per year (Packs/year)    0\n",
            "Performance Status (PS)                      0\n",
            "Encephalopathy degree                        0\n",
            "Ascites degree                               0\n",
            "International Normalised Ratio (INR)         0\n",
            "Alpha-Fetoprotein (AFP)                      0\n",
            "Hemoglobin                                   0\n",
            "Mean Corpuscular Volume (MCV)                0\n",
            "Leukocytes                                   0\n",
            "Platelets                                    0\n",
            "Albumin                                      0\n",
            "Total Bilirubin (Total Bil)                  0\n",
            "Alanine Transaminase (ALT)                   0\n",
            "Aspartate Transaminase (AST)                 0\n",
            "Gamma Glutamyl Transferase (GGT)             0\n",
            "Alkaline Phosphatase (ALP)                   0\n",
            "Total Proteins (TP)                          0\n",
            "Creatinine                                   0\n",
            "Number of Nodules (Nodules)                  0\n",
            "Major Dimension of Nodule (Major Dim)        0\n",
            "Direct Bilirubin (Dir. Bil)                  0\n",
            "Iron                                         0\n",
            "Oxygen Saturation (Sat)                      0\n",
            "Ferritin                                     0\n",
            "Class Attribute (Class)                      0\n",
            "dtype: int64\n",
            "   Gender Symptoms  Alcohol Hepatitis B Surface Antigen (HBsAg)  \\\n",
            "0       1        0        1                                   0   \n",
            "1       0        1        0                                   0   \n",
            "2       1        0        1                                   1   \n",
            "3       1        1        1                                   0   \n",
            "4       1        1        1                                   1   \n",
            "\n",
            "  Hepatitis B e Antigen (HBeAg) Hepatitis B Core Antibody (HBcAb)  \\\n",
            "0                             0                                 0   \n",
            "1                             0                                 0   \n",
            "2                             0                                 1   \n",
            "3                             0                                 0   \n",
            "4                             0                                 1   \n",
            "\n",
            "  Hepatitis C Virus Antibody (HCVAb)  Cirrhosis Endemic Countries (Endemic)  \\\n",
            "0                                  0          1                           0   \n",
            "1                                  1          1                           0   \n",
            "2                                  0          1                           0   \n",
            "3                                  0          1                           0   \n",
            "4                                  0          1                           0   \n",
            "\n",
            "  Smoking  ... Alkaline Phosphatase (ALP) Total Proteins (TP) Creatinine  \\\n",
            "0       1  ...                      150.0                7.10       0.70   \n",
            "1       1  ...                      162.0                7.05       0.85   \n",
            "2       1  ...                      109.0                7.00       2.10   \n",
            "3       1  ...                      174.0                8.10       1.11   \n",
            "4       1  ...                      109.0                6.90       1.80   \n",
            "\n",
            "  Number of Nodules (Nodules) Major Dimension of Nodule (Major Dim)  \\\n",
            "0                         1.0                                   3.5   \n",
            "1                         1.0                                   1.8   \n",
            "2                         5.0                                  13.0   \n",
            "3                         2.0                                  15.7   \n",
            "4                         1.0                                   9.0   \n",
            "\n",
            "  Direct Bilirubin (Dir. Bil)  Iron Oxygen Saturation (Sat) Ferritin  \\\n",
            "0                         0.5  83.0                    27.0    295.0   \n",
            "1                         0.7  83.0                    27.0    295.0   \n",
            "2                         0.1  28.0                     6.0     16.0   \n",
            "3                         0.2  83.0                    27.0    295.0   \n",
            "4                         0.7  59.0                    15.0     22.0   \n",
            "\n",
            "  Class Attribute (Class)  \n",
            "0                       1  \n",
            "1                       1  \n",
            "2                       1  \n",
            "3                       0  \n",
            "4                       1  \n",
            "\n",
            "[5 rows x 50 columns]\n"
          ]
        }
      ]
    },
    {
      "cell_type": "markdown",
      "source": [
        "### Check for duplicates"
      ],
      "metadata": {
        "id": "xCGvpzo0_uEd"
      }
    },
    {
      "cell_type": "code",
      "source": [
        "print(\"\\nDuplicate Rows in HCC Dataset:\")\n",
        "print(df.duplicated().sum())"
      ],
      "metadata": {
        "colab": {
          "base_uri": "https://localhost:8080/"
        },
        "id": "hEgo1oee_wdY",
        "outputId": "f9c45eb5-6bed-470b-fa55-ced860e9b155"
      },
      "execution_count": null,
      "outputs": [
        {
          "output_type": "stream",
          "name": "stdout",
          "text": [
            "\n",
            "Duplicate Rows in HCC Dataset:\n",
            "0\n"
          ]
        }
      ]
    },
    {
      "cell_type": "markdown",
      "source": [
        "### Converting categorical columns into numerical columns"
      ],
      "metadata": {
        "id": "Dh4oU6UksxcJ"
      }
    },
    {
      "cell_type": "code",
      "source": [
        "# Convert the columns to numeric\n",
        "for column in df.columns:\n",
        "    df[column] = pd.to_numeric(df[column])"
      ],
      "metadata": {
        "id": "mf3VMctksjT3"
      },
      "execution_count": null,
      "outputs": []
    },
    {
      "cell_type": "markdown",
      "source": [
        "### Check for inconsistencies"
      ],
      "metadata": {
        "id": "lRV7TH9c_2g9"
      }
    },
    {
      "cell_type": "code",
      "source": [
        "# Check for data types in each column\n",
        "print(\"\\nData types of columns:\")\n",
        "print(df.dtypes)\n",
        "print(df.describe(include='all'))"
      ],
      "metadata": {
        "colab": {
          "base_uri": "https://localhost:8080/"
        },
        "id": "Afg3hTyi_2B2",
        "outputId": "c6088b56-6330-43d2-8967-ec5ffe682501"
      },
      "execution_count": null,
      "outputs": [
        {
          "output_type": "stream",
          "name": "stdout",
          "text": [
            "\n",
            "Data types of columns:\n",
            "Gender                                         int64\n",
            "Symptoms                                       int64\n",
            "Alcohol                                        int64\n",
            "Hepatitis B Surface Antigen (HBsAg)            int64\n",
            "Hepatitis B e Antigen (HBeAg)                  int64\n",
            "Hepatitis B Core Antibody (HBcAb)              int64\n",
            "Hepatitis C Virus Antibody (HCVAb)             int64\n",
            "Cirrhosis                                      int64\n",
            "Endemic Countries (Endemic)                    int64\n",
            "Smoking                                        int64\n",
            "Diabetes                                       int64\n",
            "Obesity                                        int64\n",
            "Hemochromatosis (Hemochro)                     int64\n",
            "Arterial Hypertension (AHT)                    int64\n",
            "Chronic Renal Insufficiency (CRI)              int64\n",
            "Human Immunodeficiency Virus (HIV)             int64\n",
            "Nonalcoholic Steatohepatitis (NASH)            int64\n",
            "Esophageal Varices (Varices)                   int64\n",
            "Splenomegaly (Spleno)                          int64\n",
            "Portal Hypertension (PHT)                      int64\n",
            "Portal Vein Thrombosis (PVT)                   int64\n",
            "Liver Metastasis (Metastasis)                  int64\n",
            "Radiological Hallmark (Hallmark)               int64\n",
            "Age at diagnosis (Age)                         int64\n",
            "Grams of Alcohol per day (Grams/day)         float64\n",
            "Packs of cigarettes per year (Packs/year)    float64\n",
            "Performance Status (PS)                        int64\n",
            "Encephalopathy degree                          int64\n",
            "Ascites degree                                 int64\n",
            "International Normalised Ratio (INR)         float64\n",
            "Alpha-Fetoprotein (AFP)                      float64\n",
            "Hemoglobin                                   float64\n",
            "Mean Corpuscular Volume (MCV)                float64\n",
            "Leukocytes                                   float64\n",
            "Platelets                                    float64\n",
            "Albumin                                      float64\n",
            "Total Bilirubin (Total Bil)                  float64\n",
            "Alanine Transaminase (ALT)                   float64\n",
            "Aspartate Transaminase (AST)                 float64\n",
            "Gamma Glutamyl Transferase (GGT)             float64\n",
            "Alkaline Phosphatase (ALP)                   float64\n",
            "Total Proteins (TP)                          float64\n",
            "Creatinine                                   float64\n",
            "Number of Nodules (Nodules)                  float64\n",
            "Major Dimension of Nodule (Major Dim)        float64\n",
            "Direct Bilirubin (Dir. Bil)                  float64\n",
            "Iron                                         float64\n",
            "Oxygen Saturation (Sat)                      float64\n",
            "Ferritin                                     float64\n",
            "Class Attribute (Class)                        int64\n",
            "dtype: object\n",
            "           Gender    Symptoms     Alcohol  \\\n",
            "count  165.000000  165.000000  165.000000   \n",
            "mean     0.806061    0.678788    0.739394   \n",
            "std      0.396586    0.468364    0.440302   \n",
            "min      0.000000    0.000000    0.000000   \n",
            "25%      1.000000    0.000000    0.000000   \n",
            "50%      1.000000    1.000000    1.000000   \n",
            "75%      1.000000    1.000000    1.000000   \n",
            "max      1.000000    1.000000    1.000000   \n",
            "\n",
            "       Hepatitis B Surface Antigen (HBsAg)  Hepatitis B e Antigen (HBeAg)  \\\n",
            "count                           165.000000                     165.000000   \n",
            "mean                              0.096970                       0.006061   \n",
            "std                               0.296817                       0.077850   \n",
            "min                               0.000000                       0.000000   \n",
            "25%                               0.000000                       0.000000   \n",
            "50%                               0.000000                       0.000000   \n",
            "75%                               0.000000                       0.000000   \n",
            "max                               1.000000                       1.000000   \n",
            "\n",
            "       Hepatitis B Core Antibody (HBcAb)  Hepatitis C Virus Antibody (HCVAb)  \\\n",
            "count                         165.000000                          165.000000   \n",
            "mean                            0.230303                            0.206061   \n",
            "std                             0.422308                            0.405706   \n",
            "min                             0.000000                            0.000000   \n",
            "25%                             0.000000                            0.000000   \n",
            "50%                             0.000000                            0.000000   \n",
            "75%                             0.000000                            0.000000   \n",
            "max                             1.000000                            1.000000   \n",
            "\n",
            "        Cirrhosis  Endemic Countries (Endemic)     Smoking  ...  \\\n",
            "count  165.000000                   165.000000  165.000000  ...   \n",
            "mean     0.903030                     0.060606    0.630303  ...   \n",
            "std      0.296817                     0.239333    0.484192  ...   \n",
            "min      0.000000                     0.000000    0.000000  ...   \n",
            "25%      1.000000                     0.000000    0.000000  ...   \n",
            "50%      1.000000                     0.000000    1.000000  ...   \n",
            "75%      1.000000                     0.000000    1.000000  ...   \n",
            "max      1.000000                     1.000000    1.000000  ...   \n",
            "\n",
            "       Alkaline Phosphatase (ALP)  Total Proteins (TP)  Creatinine  \\\n",
            "count                  165.000000           165.000000  165.000000   \n",
            "mean                   211.298667             8.833636    1.115333   \n",
            "std                    166.536394            11.338656    0.936911   \n",
            "min                      1.280000             3.900000    0.200000   \n",
            "25%                    109.000000             6.400000    0.710000   \n",
            "50%                    162.000000             7.050000    0.850000   \n",
            "75%                    260.000000             7.500000    1.100000   \n",
            "max                    980.000000           102.000000    7.600000   \n",
            "\n",
            "       Number of Nodules (Nodules)  Major Dimension of Nodule (Major Dim)  \\\n",
            "count                   165.000000                             165.000000   \n",
            "mean                      2.727273                               6.626788   \n",
            "std                       1.788730                               4.812579   \n",
            "min                       0.000000                               1.500000   \n",
            "25%                       1.000000                               3.000000   \n",
            "50%                       2.000000                               5.000000   \n",
            "75%                       5.000000                               8.500000   \n",
            "max                       5.000000                              22.000000   \n",
            "\n",
            "       Direct Bilirubin (Dir. Bil)        Iron  Oxygen Saturation (Sat)  \\\n",
            "count                   165.000000  165.000000               165.000000   \n",
            "mean                      1.602000   84.354545                32.166424   \n",
            "std                       3.642705   40.120263                21.350400   \n",
            "min                       0.100000    0.000000                 0.000000   \n",
            "25%                       0.500000   78.000000                27.000000   \n",
            "50%                       0.700000   83.000000                27.000000   \n",
            "75%                       1.100000   85.000000                29.500000   \n",
            "max                      29.300000  224.000000               126.000000   \n",
            "\n",
            "          Ferritin  Class Attribute (Class)  \n",
            "count   165.000000               165.000000  \n",
            "mean    369.180606                 0.618182  \n",
            "std     335.015936                 0.487311  \n",
            "min       0.000000                 0.000000  \n",
            "25%     283.000000                 0.000000  \n",
            "50%     295.000000                 1.000000  \n",
            "75%     297.000000                 1.000000  \n",
            "max    2230.000000                 1.000000  \n",
            "\n",
            "[8 rows x 50 columns]\n"
          ]
        }
      ]
    },
    {
      "cell_type": "markdown",
      "source": [
        "# Data Splitting"
      ],
      "metadata": {
        "id": "N7zUOphGxK63"
      }
    },
    {
      "cell_type": "code",
      "source": [
        "X = df.drop(columns=['Class Attribute (Class)'])  # Features\n",
        "y = df['Class Attribute (Class)']  # Target\n",
        "\n",
        "# Split the dataset into training and testing sets with stratification, and set a random seed\n",
        "X_train, X_test, y_train, y_test = train_test_split(\n",
        "    X, y,\n",
        "    test_size=0.2,  # 80:20 split\n",
        "    stratify=y,     # Stratify based on target column\n",
        "    random_state=177  # Set random seed for reproducibility\n",
        ")\n",
        "\n",
        "# Combine the X_train, X_test with their respective y_train, y_test if you need full DataFrames\n",
        "train_df = pd.concat([X_train, y_train], axis=1)\n",
        "test_df = pd.concat([X_test, y_test], axis=1)\n",
        "\n",
        "# Print the data\n",
        "print(\"Training set:\")\n",
        "print(train_df.head())\n",
        "print(\"Test set:\")\n",
        "print(test_df.head())"
      ],
      "metadata": {
        "colab": {
          "base_uri": "https://localhost:8080/"
        },
        "id": "b12ud682AjNz",
        "outputId": "fe23b0ee-6307-4d47-9700-102d2c52cff6"
      },
      "execution_count": null,
      "outputs": [
        {
          "output_type": "stream",
          "name": "stdout",
          "text": [
            "Training set:\n",
            "     Gender  Symptoms  Alcohol  Hepatitis B Surface Antigen (HBsAg)  \\\n",
            "131       0         0        1                                    0   \n",
            "163       1         0        1                                    1   \n",
            "3         1         1        1                                    0   \n",
            "143       1         0        1                                    0   \n",
            "49        1         1        1                                    0   \n",
            "\n",
            "     Hepatitis B e Antigen (HBeAg)  Hepatitis B Core Antibody (HBcAb)  \\\n",
            "131                              0                                  0   \n",
            "163                              0                                  1   \n",
            "3                                0                                  0   \n",
            "143                              0                                  0   \n",
            "49                               0                                  1   \n",
            "\n",
            "     Hepatitis C Virus Antibody (HCVAb)  Cirrhosis  \\\n",
            "131                                   0          1   \n",
            "163                                   1          1   \n",
            "3                                     0          1   \n",
            "143                                   0          1   \n",
            "49                                    0          1   \n",
            "\n",
            "     Endemic Countries (Endemic)  Smoking  ...  Alkaline Phosphatase (ALP)  \\\n",
            "131                            0        1  ...                       147.0   \n",
            "163                            1        1  ...                       170.0   \n",
            "3                              0        1  ...                       174.0   \n",
            "143                            0        1  ...                       106.0   \n",
            "49                             0        1  ...                       109.0   \n",
            "\n",
            "     Total Proteins (TP)  Creatinine  Number of Nodules (Nodules)  \\\n",
            "131                  6.5        1.00                          5.0   \n",
            "163                  8.4        0.74                          5.0   \n",
            "3                    8.1        1.11                          2.0   \n",
            "143                  7.6        0.52                          1.0   \n",
            "49                   7.6        0.80                          1.0   \n",
            "\n",
            "     Major Dimension of Nodule (Major Dim)  Direct Bilirubin (Dir. Bil)  \\\n",
            "131                                    2.6                          3.8   \n",
            "163                                   18.0                          0.7   \n",
            "3                                     15.7                          0.2   \n",
            "143                                    2.1                          1.1   \n",
            "49                                     2.0                          0.4   \n",
            "\n",
            "      Iron  Oxygen Saturation (Sat)  Ferritin  Class Attribute (Class)  \n",
            "131   83.0                     27.0     295.0                        1  \n",
            "163   83.0                     27.0     295.0                        0  \n",
            "3     83.0                     27.0     295.0                        0  \n",
            "143   94.0                     39.0     344.0                        1  \n",
            "49   184.0                     59.0     905.0                        1  \n",
            "\n",
            "[5 rows x 50 columns]\n",
            "Test set:\n",
            "     Gender  Symptoms  Alcohol  Hepatitis B Surface Antigen (HBsAg)  \\\n",
            "95        1         0        0                                    0   \n",
            "139       0         1        1                                    0   \n",
            "110       1         1        1                                    1   \n",
            "119       1         0        1                                    0   \n",
            "53        1         1        1                                    0   \n",
            "\n",
            "     Hepatitis B e Antigen (HBeAg)  Hepatitis B Core Antibody (HBcAb)  \\\n",
            "95                               0                                  0   \n",
            "139                              0                                  1   \n",
            "110                              0                                  1   \n",
            "119                              0                                  0   \n",
            "53                               0                                  0   \n",
            "\n",
            "     Hepatitis C Virus Antibody (HCVAb)  Cirrhosis  \\\n",
            "95                                    0          0   \n",
            "139                                   1          1   \n",
            "110                                   0          1   \n",
            "119                                   0          1   \n",
            "53                                    0          1   \n",
            "\n",
            "     Endemic Countries (Endemic)  Smoking  ...  Alkaline Phosphatase (ALP)  \\\n",
            "95                             0        0  ...                       124.0   \n",
            "139                            0        1  ...                       192.0   \n",
            "110                            0        1  ...                       166.0   \n",
            "119                            0        1  ...                       239.0   \n",
            "53                             0        0  ...                       130.0   \n",
            "\n",
            "     Total Proteins (TP)  Creatinine  Number of Nodules (Nodules)  \\\n",
            "95                  6.80        1.60                          1.0   \n",
            "139                 7.40        0.90                          3.0   \n",
            "110                 7.20        0.48                          5.0   \n",
            "119                 8.10        0.72                          1.0   \n",
            "53                  7.05        0.76                          2.0   \n",
            "\n",
            "     Major Dimension of Nodule (Major Dim)  Direct Bilirubin (Dir. Bil)  \\\n",
            "95                                     5.5                          0.7   \n",
            "139                                    2.0                          0.4   \n",
            "110                                   12.6                          1.8   \n",
            "119                                    1.5                          1.0   \n",
            "53                                     2.0                          0.3   \n",
            "\n",
            "      Iron  Oxygen Saturation (Sat)  Ferritin  Class Attribute (Class)  \n",
            "95    15.0                     7.00     810.0                        0  \n",
            "139   83.0                    27.00     295.0                        1  \n",
            "110  161.0                    96.00     297.0                        1  \n",
            "119   83.0                    27.00     295.0                        1  \n",
            "53   184.0                     2.26      59.0                        1  \n",
            "\n",
            "[5 rows x 50 columns]\n"
          ]
        }
      ]
    },
    {
      "cell_type": "markdown",
      "source": [
        "# Data Normalization"
      ],
      "metadata": {
        "id": "3y4aQUKOzigH"
      }
    },
    {
      "cell_type": "code",
      "source": [
        "# Initialize the MinMaxScaler\n",
        "scaler = MinMaxScaler()\n",
        "\n",
        "# Normalize only the numerical columns in the training set\n",
        "X_train[numerical_columns] = scaler.fit_transform(X_train[numerical_columns])\n",
        "\n",
        "# Normalize the same numerical columns in the test set using the same scaler (without fitting)\n",
        "X_test[numerical_columns] = scaler.transform(X_test[numerical_columns])\n",
        "\n",
        "# Combine the X_train, X_test with their respective y_train, y_test if you need full DataFrames\n",
        "train_df = pd.concat([X_train, y_train], axis=1)\n",
        "test_df = pd.concat([X_test, y_test], axis=1)\n",
        "\n",
        "# Print the normalized data\n",
        "print(\"Normalized training set:\")\n",
        "print(train_df.head())\n",
        "print(\"Normalized test set:\")\n",
        "print(test_df.head())"
      ],
      "metadata": {
        "colab": {
          "base_uri": "https://localhost:8080/"
        },
        "id": "zhOBCaelzmIM",
        "outputId": "96d29c7c-f454-405c-e5d4-5638aa41755b"
      },
      "execution_count": null,
      "outputs": [
        {
          "output_type": "stream",
          "name": "stdout",
          "text": [
            "Normalized training set:\n",
            "     Gender  Symptoms  Alcohol  Hepatitis B Surface Antigen (HBsAg)  \\\n",
            "131       0         0        1                                    0   \n",
            "163       1         0        1                                    1   \n",
            "3         1         1        1                                    0   \n",
            "143       1         0        1                                    0   \n",
            "49        1         1        1                                    0   \n",
            "\n",
            "     Hepatitis B e Antigen (HBeAg)  Hepatitis B Core Antibody (HBcAb)  \\\n",
            "131                              0                                  0   \n",
            "163                              0                                  1   \n",
            "3                                0                                  0   \n",
            "143                              0                                  0   \n",
            "49                               0                                  1   \n",
            "\n",
            "     Hepatitis C Virus Antibody (HCVAb)  Cirrhosis  \\\n",
            "131                                   0          1   \n",
            "163                                   1          1   \n",
            "3                                     0          1   \n",
            "143                                   0          1   \n",
            "49                                    0          1   \n",
            "\n",
            "     Endemic Countries (Endemic)  Smoking  ...  Alkaline Phosphatase (ALP)  \\\n",
            "131                            0        1  ...                    0.148888   \n",
            "163                            1        1  ...                    0.172388   \n",
            "3                              0        1  ...                    0.176475   \n",
            "143                            0        1  ...                    0.106997   \n",
            "49                             0        1  ...                    0.110062   \n",
            "\n",
            "     Total Proteins (TP)  Creatinine  Number of Nodules (Nodules)  \\\n",
            "131             0.035088    0.108108                         1.00   \n",
            "163             0.060729    0.072973                         1.00   \n",
            "3               0.056680    0.122973                         0.25   \n",
            "143             0.049933    0.043243                         0.00   \n",
            "49              0.049933    0.081081                         0.00   \n",
            "\n",
            "     Major Dimension of Nodule (Major Dim)  Direct Bilirubin (Dir. Bil)  \\\n",
            "131                               0.053659                     0.186992   \n",
            "163                               0.804878                     0.029472   \n",
            "3                                 0.692683                     0.004065   \n",
            "143                               0.029268                     0.049797   \n",
            "49                                0.024390                     0.014228   \n",
            "\n",
            "         Iron  Oxygen Saturation (Sat)  Ferritin  Class Attribute (Class)  \n",
            "131  0.370536                 0.214286  0.136259                        1  \n",
            "163  0.370536                 0.214286  0.136259                        0  \n",
            "3    0.370536                 0.214286  0.136259                        0  \n",
            "143  0.419643                 0.309524  0.158891                        1  \n",
            "49   0.821429                 0.468254  0.418014                        1  \n",
            "\n",
            "[5 rows x 50 columns]\n",
            "Normalized test set:\n",
            "     Gender  Symptoms  Alcohol  Hepatitis B Surface Antigen (HBsAg)  \\\n",
            "95        1         0        0                                    0   \n",
            "139       0         1        1                                    0   \n",
            "110       1         1        1                                    1   \n",
            "119       1         0        1                                    0   \n",
            "53        1         1        1                                    0   \n",
            "\n",
            "     Hepatitis B e Antigen (HBeAg)  Hepatitis B Core Antibody (HBcAb)  \\\n",
            "95                               0                                  0   \n",
            "139                              0                                  1   \n",
            "110                              0                                  1   \n",
            "119                              0                                  0   \n",
            "53                               0                                  0   \n",
            "\n",
            "     Hepatitis C Virus Antibody (HCVAb)  Cirrhosis  \\\n",
            "95                                    0          0   \n",
            "139                                   1          1   \n",
            "110                                   0          1   \n",
            "119                                   0          1   \n",
            "53                                    0          1   \n",
            "\n",
            "     Endemic Countries (Endemic)  Smoking  ...  Alkaline Phosphatase (ALP)  \\\n",
            "95                             0        0  ...                    0.125388   \n",
            "139                            0        1  ...                    0.194867   \n",
            "110                            0        1  ...                    0.168301   \n",
            "119                            0        1  ...                    0.242889   \n",
            "53                             0        0  ...                    0.131519   \n",
            "\n",
            "     Total Proteins (TP)  Creatinine  Number of Nodules (Nodules)  \\\n",
            "95              0.039136    0.189189                         0.00   \n",
            "139             0.047233    0.094595                         0.50   \n",
            "110             0.044534    0.037838                         1.00   \n",
            "119             0.056680    0.070270                         0.00   \n",
            "53              0.042510    0.075676                         0.25   \n",
            "\n",
            "     Major Dimension of Nodule (Major Dim)  Direct Bilirubin (Dir. Bil)  \\\n",
            "95                                0.195122                     0.029472   \n",
            "139                               0.024390                     0.014228   \n",
            "110                               0.541463                     0.085366   \n",
            "119                               0.000000                     0.044715   \n",
            "53                                0.024390                     0.009146   \n",
            "\n",
            "         Iron  Oxygen Saturation (Sat)  Ferritin  Class Attribute (Class)  \n",
            "95   0.066964                 0.055556  0.374134                        0  \n",
            "139  0.370536                 0.214286  0.136259                        1  \n",
            "110  0.718750                 0.761905  0.137182                        1  \n",
            "119  0.370536                 0.214286  0.136259                        1  \n",
            "53   0.821429                 0.017937  0.027252                        1  \n",
            "\n",
            "[5 rows x 50 columns]\n"
          ]
        }
      ]
    },
    {
      "cell_type": "markdown",
      "source": [
        "# Without Feature Selection"
      ],
      "metadata": {
        "id": "Lepq_Rx5r27K"
      }
    },
    {
      "cell_type": "markdown",
      "source": [
        "## SMOTE"
      ],
      "metadata": {
        "id": "-1RvmiTxr9Fe"
      }
    },
    {
      "cell_type": "code",
      "source": [
        "smote = SMOTE(random_state=177)\n",
        "X_train_resampled, y_train_resampled = smote.fit_resample(X_train, y_train)"
      ],
      "metadata": {
        "colab": {
          "base_uri": "https://localhost:8080/"
        },
        "id": "WA8hN2kytwgn",
        "outputId": "248ed387-cb1c-4ec6-cfff-170827dd6664"
      },
      "execution_count": null,
      "outputs": [
        {
          "output_type": "stream",
          "name": "stderr",
          "text": [
            "/usr/local/lib/python3.10/dist-packages/sklearn/base.py:474: FutureWarning: `BaseEstimator._validate_data` is deprecated in 1.6 and will be removed in 1.7. Use `sklearn.utils.validation.validate_data` instead. This function becomes public and is part of the scikit-learn developer API.\n",
            "  warnings.warn(\n",
            "/usr/local/lib/python3.10/dist-packages/sklearn/utils/_tags.py:354: FutureWarning: The SMOTE or classes from which it inherits use `_get_tags` and `_more_tags`. Please define the `__sklearn_tags__` method, or inherit from `sklearn.base.BaseEstimator` and/or other appropriate mixins such as `sklearn.base.TransformerMixin`, `sklearn.base.ClassifierMixin`, `sklearn.base.RegressorMixin`, and `sklearn.base.OutlierMixin`. From scikit-learn 1.7, not defining `__sklearn_tags__` will raise an error.\n",
            "  warnings.warn(\n"
          ]
        }
      ]
    },
    {
      "cell_type": "markdown",
      "source": [
        "### XGBoost"
      ],
      "metadata": {
        "id": "qigfs_trthAq"
      }
    },
    {
      "cell_type": "code",
      "source": [
        "# Train the XGBoost model\n",
        "# Initialize the XGBoost classifier\n",
        "xgb_model = xgb.XGBClassifier(use_label_encoder=False, eval_metric='mlogloss', random_state=177)\n",
        "\n",
        "# Train the model\n",
        "xgb_model.fit(X_train_resampled, y_train_resampled)\n",
        "\n",
        "# Make predictions on the test set\n",
        "y_pred_xgb = xgb_model.predict(X_test)\n",
        "\n",
        "# Evaluate the model\n",
        "# Accuracy score\n",
        "accuracy = accuracy_score(y_test, y_pred_xgb)\n",
        "print(f\"Accuracy: {accuracy:.4f}\")\n",
        "\n",
        "# Classification report for more detailed metrics\n",
        "print(\"\\nClassification Report:\")\n",
        "print(classification_report(y_test, y_pred_xgb))\n",
        "\n",
        "# Confusion matrix\n",
        "print(\"\\nConfusion Matrix:\")\n",
        "print(confusion_matrix(y_test, y_pred_xgb))"
      ],
      "metadata": {
        "colab": {
          "base_uri": "https://localhost:8080/"
        },
        "outputId": "c730b36e-e7af-4967-e615-e3383c05197c",
        "id": "GntUwuC0thAr"
      },
      "execution_count": null,
      "outputs": [
        {
          "output_type": "stream",
          "name": "stderr",
          "text": [
            "/usr/local/lib/python3.10/dist-packages/xgboost/core.py:158: UserWarning: [12:53:05] WARNING: /workspace/src/learner.cc:740: \n",
            "Parameters: { \"use_label_encoder\" } are not used.\n",
            "\n",
            "  warnings.warn(smsg, UserWarning)\n"
          ]
        },
        {
          "output_type": "stream",
          "name": "stdout",
          "text": [
            "Accuracy: 0.6061\n",
            "\n",
            "Classification Report:\n",
            "              precision    recall  f1-score   support\n",
            "\n",
            "           0       0.50      0.46      0.48        13\n",
            "           1       0.67      0.70      0.68        20\n",
            "\n",
            "    accuracy                           0.61        33\n",
            "   macro avg       0.58      0.58      0.58        33\n",
            "weighted avg       0.60      0.61      0.60        33\n",
            "\n",
            "\n",
            "Confusion Matrix:\n",
            "[[ 6  7]\n",
            " [ 6 14]]\n"
          ]
        }
      ]
    },
    {
      "cell_type": "markdown",
      "source": [
        "### Random Forest"
      ],
      "metadata": {
        "id": "nTqOTEZythAs"
      }
    },
    {
      "cell_type": "code",
      "source": [
        "# Train the Random Forest model\n",
        "# Initialize the Random Forest classifier\n",
        "rf_model = RandomForestClassifier(n_estimators=100, random_state=177)\n",
        "\n",
        "# Train the model\n",
        "rf_model.fit(X_train_resampled, y_train_resampled)\n",
        "\n",
        "# Make predictions on the test set\n",
        "y_pred_rf = rf_model.predict(X_test)\n",
        "\n",
        "# Evaluate the model\n",
        "# Accuracy score\n",
        "accuracy_rf = accuracy_score(y_test, y_pred_rf)\n",
        "print(f\"Accuracy: {accuracy_rf:.4f}\")\n",
        "\n",
        "# Classification report for more detailed metrics\n",
        "print(\"\\nClassification Report:\")\n",
        "print(classification_report(y_test, y_pred_rf))\n",
        "\n",
        "# Confusion matrix\n",
        "print(\"\\nConfusion Matrix:\")\n",
        "print(confusion_matrix(y_test, y_pred_rf))\n"
      ],
      "metadata": {
        "colab": {
          "base_uri": "https://localhost:8080/"
        },
        "outputId": "587dff04-9b23-4dff-e693-d2ae7ba923fd",
        "id": "aQ0TbBHqthAt"
      },
      "execution_count": null,
      "outputs": [
        {
          "output_type": "stream",
          "name": "stdout",
          "text": [
            "Accuracy: 0.6061\n",
            "\n",
            "Classification Report:\n",
            "              precision    recall  f1-score   support\n",
            "\n",
            "           0       0.50      0.46      0.48        13\n",
            "           1       0.67      0.70      0.68        20\n",
            "\n",
            "    accuracy                           0.61        33\n",
            "   macro avg       0.58      0.58      0.58        33\n",
            "weighted avg       0.60      0.61      0.60        33\n",
            "\n",
            "\n",
            "Confusion Matrix:\n",
            "[[ 6  7]\n",
            " [ 6 14]]\n"
          ]
        }
      ]
    },
    {
      "cell_type": "markdown",
      "source": [
        "### SVM"
      ],
      "metadata": {
        "id": "PcDh8Y_mthAu"
      }
    },
    {
      "cell_type": "code",
      "source": [
        "# Initialize the SVM classifier (you can use 'linear', 'rbf', 'poly' kernels as needed)\n",
        "svm_model = SVC(kernel='linear', random_state=177)\n",
        "\n",
        "# Train the SVM model\n",
        "svm_model.fit(X_train_resampled, y_train_resampled)\n",
        "\n",
        "# Make predictions on the test set\n",
        "y_pred_svm = svm_model.predict(X_test)\n",
        "\n",
        "# Evaluate the model\n",
        "# Accuracy score\n",
        "accuracy_svm = accuracy_score(y_test, y_pred_svm)\n",
        "print(f\"Accuracy: {accuracy_svm:.4f}\")\n",
        "\n",
        "# Classification report for more detailed metrics\n",
        "print(\"\\nClassification Report:\")\n",
        "print(classification_report(y_test, y_pred_svm))\n",
        "\n",
        "# Confusion matrix\n",
        "print(\"\\nConfusion Matrix:\")\n",
        "print(confusion_matrix(y_test, y_pred_svm))"
      ],
      "metadata": {
        "colab": {
          "base_uri": "https://localhost:8080/"
        },
        "outputId": "65d7bc05-01fb-4a41-f443-f3fc2e0e7ef6",
        "id": "qM9UqTrqthAu"
      },
      "execution_count": null,
      "outputs": [
        {
          "output_type": "stream",
          "name": "stdout",
          "text": [
            "Accuracy: 0.7273\n",
            "\n",
            "Classification Report:\n",
            "              precision    recall  f1-score   support\n",
            "\n",
            "           0       0.64      0.69      0.67        13\n",
            "           1       0.79      0.75      0.77        20\n",
            "\n",
            "    accuracy                           0.73        33\n",
            "   macro avg       0.72      0.72      0.72        33\n",
            "weighted avg       0.73      0.73      0.73        33\n",
            "\n",
            "\n",
            "Confusion Matrix:\n",
            "[[ 9  4]\n",
            " [ 5 15]]\n"
          ]
        }
      ]
    },
    {
      "cell_type": "markdown",
      "source": [
        "## Without SMOTE"
      ],
      "metadata": {
        "id": "Y4gAAJhqthAu"
      }
    },
    {
      "cell_type": "markdown",
      "source": [
        "### XGBoost"
      ],
      "metadata": {
        "id": "gMULJ_wHthAv"
      }
    },
    {
      "cell_type": "code",
      "source": [
        "# Train the XGBoost model\n",
        "# Initialize the XGBoost classifier\n",
        "xgb_model = xgb.XGBClassifier(use_label_encoder=False, eval_metric='mlogloss', random_state=177)\n",
        "\n",
        "# Train the model\n",
        "xgb_model.fit(X_train, y_train)\n",
        "\n",
        "# Make predictions on the test set\n",
        "y_pred_xgb = xgb_model.predict(X_test)\n",
        "\n",
        "# Evaluate the model\n",
        "# Accuracy score\n",
        "accuracy = accuracy_score(y_test, y_pred_xgb)\n",
        "print(f\"Accuracy: {accuracy:.4f}\")\n",
        "\n",
        "# Classification report for more detailed metrics\n",
        "print(\"\\nClassification Report:\")\n",
        "print(classification_report(y_test, y_pred_xgb))\n",
        "\n",
        "# Confusion matrix\n",
        "print(\"\\nConfusion Matrix:\")\n",
        "print(confusion_matrix(y_test, y_pred_xgb))"
      ],
      "metadata": {
        "colab": {
          "base_uri": "https://localhost:8080/"
        },
        "outputId": "e47a7afb-1883-47da-e6cc-9a7d49975bb0",
        "id": "Olu96iZithAv"
      },
      "execution_count": null,
      "outputs": [
        {
          "output_type": "stream",
          "name": "stdout",
          "text": [
            "Accuracy: 0.7273\n",
            "\n",
            "Classification Report:\n",
            "              precision    recall  f1-score   support\n",
            "\n",
            "           0       0.70      0.54      0.61        13\n",
            "           1       0.74      0.85      0.79        20\n",
            "\n",
            "    accuracy                           0.73        33\n",
            "   macro avg       0.72      0.69      0.70        33\n",
            "weighted avg       0.72      0.73      0.72        33\n",
            "\n",
            "\n",
            "Confusion Matrix:\n",
            "[[ 7  6]\n",
            " [ 3 17]]\n"
          ]
        },
        {
          "output_type": "stream",
          "name": "stderr",
          "text": [
            "/usr/local/lib/python3.10/dist-packages/xgboost/core.py:158: UserWarning: [12:53:05] WARNING: /workspace/src/learner.cc:740: \n",
            "Parameters: { \"use_label_encoder\" } are not used.\n",
            "\n",
            "  warnings.warn(smsg, UserWarning)\n"
          ]
        }
      ]
    },
    {
      "cell_type": "markdown",
      "source": [
        "### Random Forest"
      ],
      "metadata": {
        "id": "jYrg24sqthAv"
      }
    },
    {
      "cell_type": "code",
      "source": [
        "# Train the Random Forest model\n",
        "# Initialize the Random Forest classifier\n",
        "rf_model = RandomForestClassifier(n_estimators=100, random_state=177)\n",
        "\n",
        "# Train the model\n",
        "rf_model.fit(X_train, y_train)\n",
        "\n",
        "# Make predictions on the test set\n",
        "y_pred_rf = rf_model.predict(X_test)\n",
        "\n",
        "# Evaluate the model\n",
        "# Accuracy score\n",
        "accuracy_rf = accuracy_score(y_test, y_pred_rf)\n",
        "print(f\"Accuracy: {accuracy_rf:.4f}\")\n",
        "\n",
        "# Classification report for more detailed metrics\n",
        "print(\"\\nClassification Report:\")\n",
        "print(classification_report(y_test, y_pred_rf))\n",
        "\n",
        "# Confusion matrix\n",
        "print(\"\\nConfusion Matrix:\")\n",
        "print(confusion_matrix(y_test, y_pred_rf))\n"
      ],
      "metadata": {
        "colab": {
          "base_uri": "https://localhost:8080/"
        },
        "outputId": "c7ff4c95-9ad9-413e-d7cf-00f83f27c9e4",
        "id": "N-D1ng_zthAw"
      },
      "execution_count": null,
      "outputs": [
        {
          "output_type": "stream",
          "name": "stdout",
          "text": [
            "Accuracy: 0.7879\n",
            "\n",
            "Classification Report:\n",
            "              precision    recall  f1-score   support\n",
            "\n",
            "           0       1.00      0.46      0.63        13\n",
            "           1       0.74      1.00      0.85        20\n",
            "\n",
            "    accuracy                           0.79        33\n",
            "   macro avg       0.87      0.73      0.74        33\n",
            "weighted avg       0.84      0.79      0.76        33\n",
            "\n",
            "\n",
            "Confusion Matrix:\n",
            "[[ 6  7]\n",
            " [ 0 20]]\n"
          ]
        }
      ]
    },
    {
      "cell_type": "markdown",
      "source": [
        "### SVM"
      ],
      "metadata": {
        "id": "Q6HsLFbfthAw"
      }
    },
    {
      "cell_type": "code",
      "source": [
        "# Initialize the SVM classifier (you can use 'linear', 'rbf', 'poly' kernels as needed)\n",
        "svm_model = SVC(kernel='linear', random_state=177)\n",
        "\n",
        "# Train the SVM model\n",
        "svm_model.fit(X_train, y_train)\n",
        "\n",
        "# Make predictions on the test set\n",
        "y_pred_svm = svm_model.predict(X_test)\n",
        "\n",
        "# Evaluate the model\n",
        "# Accuracy score\n",
        "accuracy_svm = accuracy_score(y_test, y_pred_svm)\n",
        "print(f\"Accuracy: {accuracy_svm:.4f}\")\n",
        "\n",
        "# Classification report for more detailed metrics\n",
        "print(\"\\nClassification Report:\")\n",
        "print(classification_report(y_test, y_pred_svm))\n",
        "\n",
        "# Confusion matrix\n",
        "print(\"\\nConfusion Matrix:\")\n",
        "print(confusion_matrix(y_test, y_pred_svm))"
      ],
      "metadata": {
        "colab": {
          "base_uri": "https://localhost:8080/"
        },
        "outputId": "e1e6b86e-f57d-46fd-f54c-88bf61971ffa",
        "id": "Vr8FLf9sthAx"
      },
      "execution_count": null,
      "outputs": [
        {
          "output_type": "stream",
          "name": "stdout",
          "text": [
            "Accuracy: 0.7576\n",
            "\n",
            "Classification Report:\n",
            "              precision    recall  f1-score   support\n",
            "\n",
            "           0       0.69      0.69      0.69        13\n",
            "           1       0.80      0.80      0.80        20\n",
            "\n",
            "    accuracy                           0.76        33\n",
            "   macro avg       0.75      0.75      0.75        33\n",
            "weighted avg       0.76      0.76      0.76        33\n",
            "\n",
            "\n",
            "Confusion Matrix:\n",
            "[[ 9  4]\n",
            " [ 4 16]]\n"
          ]
        }
      ]
    },
    {
      "cell_type": "code",
      "source": [
        "smote = SMOTE(random_state=177)\n",
        "X_train_resampled, y_train_resampled = smote.fit_resample(X_train, y_train)"
      ],
      "metadata": {
        "colab": {
          "base_uri": "https://localhost:8080/"
        },
        "id": "YdmDlw51r-XL",
        "outputId": "07a6dba9-ae19-4785-a31e-f23af9d90598"
      },
      "execution_count": null,
      "outputs": [
        {
          "output_type": "stream",
          "name": "stderr",
          "text": [
            "/usr/local/lib/python3.10/dist-packages/sklearn/base.py:474: FutureWarning: `BaseEstimator._validate_data` is deprecated in 1.6 and will be removed in 1.7. Use `sklearn.utils.validation.validate_data` instead. This function becomes public and is part of the scikit-learn developer API.\n",
            "  warnings.warn(\n",
            "/usr/local/lib/python3.10/dist-packages/sklearn/utils/_tags.py:354: FutureWarning: The SMOTE or classes from which it inherits use `_get_tags` and `_more_tags`. Please define the `__sklearn_tags__` method, or inherit from `sklearn.base.BaseEstimator` and/or other appropriate mixins such as `sklearn.base.TransformerMixin`, `sklearn.base.ClassifierMixin`, `sklearn.base.RegressorMixin`, and `sklearn.base.OutlierMixin`. From scikit-learn 1.7, not defining `__sklearn_tags__` will raise an error.\n",
            "  warnings.warn(\n"
          ]
        }
      ]
    },
    {
      "cell_type": "markdown",
      "source": [
        "# With Feature Selection (Correlation)"
      ],
      "metadata": {
        "id": "lQXEqAKhKoqP"
      }
    },
    {
      "cell_type": "code",
      "source": [
        "# Step 1: Compute correlations with the target variable\n",
        "target = 'Class Attribute (Class)'  # Replace with the name of your target variable\n",
        "correlations = train_df[numerical_columns + [target]].corr()[target].drop(target) # Correlation of all features with target\n",
        "\n",
        "# Filter features with correlation > 0.2\n",
        "selected_features = correlations[correlations.abs() > 0.2].index.tolist()\n",
        "print(\"Numerical Columns with High Correlation to Target:\")\n",
        "print(correlations[selected_features])\n",
        "\n",
        "# Step 2: Check for multicollinearity among selected features\n",
        "# Create a DataFrame for correlations among selected features\n",
        "selected_corr = train_df[selected_features].corr()\n",
        "\n",
        "# Initialize a list to keep the final selected features\n",
        "selected_numerical_columns_correlation = selected_features[:]\n",
        "\n",
        "# Step 3: Remove multicollinear features\n",
        "for feature in selected_features:\n",
        "    if feature in selected_numerical_columns_correlation:  # Only process features not yet removed\n",
        "        high_corr_features = selected_corr[feature][selected_corr[feature] > 0.9].index.tolist()  # Threshold for multicollinearity\n",
        "        high_corr_features.remove(feature)  # Exclude itself\n",
        "\n",
        "        # Remove features with high correlation, retaining the one with the highest target correlation\n",
        "        for high_corr_feature in high_corr_features:\n",
        "            if high_corr_feature in selected_numerical_columns_correlation:\n",
        "                # Retain the feature with higher correlation to the target\n",
        "                if correlations[high_corr_feature] < correlations[feature]:\n",
        "                    selected_numerical_columns_correlation.remove(high_corr_feature)\n",
        "\n",
        "chi2_results = []\n",
        "\n",
        "# Iterate through each categorical column\n",
        "for column in categorical_columns:\n",
        "    # Create a contingency table\n",
        "    contingency_table = pd.crosstab(train_df[column], train_df[target])\n",
        "\n",
        "    # Perform Chi-Square test\n",
        "    chi2_stat, p_value, dof, expected = chi2_contingency(contingency_table)\n",
        "\n",
        "    # Store results\n",
        "    chi2_results.append({'Column': column, 'Chi2_Statistic': chi2_stat, 'P_Value': p_value})\n",
        "\n",
        "# Convert results to DataFrame\n",
        "chi2_df = pd.DataFrame(chi2_results)\n",
        "\n",
        "print(\"Chi-Square Correlation for Categorical Columns:\")\n",
        "print(chi2_df)\n",
        "\n",
        "# Filter Categorical Columns Based on Chi-Square\n",
        "chi2_threshold = 0.05\n",
        "selected_categorical_columns_correlation = chi2_df[chi2_df[\"P_Value\"] < chi2_threshold][\"Column\"].tolist()\n",
        "\n",
        "print(\"Selected Numerical Columns:\", selected_numerical_columns_correlation)\n",
        "print(\"Selected Categorical Columns:\", selected_categorical_columns_correlation)\n",
        "\n",
        "# Combine numerical and categorical selected columns\n",
        "selected_features_correlation = selected_numerical_columns_correlation + selected_categorical_columns_correlation\n",
        "\n",
        "print(selected_features_correlation)\n",
        "\n",
        "# Create X_train and X_test with only the selected features\n",
        "X_train_correlation = X_train[selected_features_correlation]\n",
        "X_test_correlation = X_test[selected_features_correlation]"
      ],
      "metadata": {
        "colab": {
          "base_uri": "https://localhost:8080/"
        },
        "id": "whKtnq5hKqRf",
        "outputId": "d29d9791-ac6d-49f9-d373-6fd4949a60bc"
      },
      "execution_count": null,
      "outputs": [
        {
          "output_type": "stream",
          "name": "stdout",
          "text": [
            "Numerical Columns with High Correlation to Target:\n",
            "Hemoglobin                      0.279554\n",
            "Albumin                         0.246888\n",
            "Total Bilirubin (Total Bil)    -0.239685\n",
            "Aspartate Transaminase (AST)   -0.224151\n",
            "Alkaline Phosphatase (ALP)     -0.305587\n",
            "Direct Bilirubin (Dir. Bil)    -0.248014\n",
            "Ferritin                       -0.339249\n",
            "Name: Class Attribute (Class), dtype: float64\n",
            "Chi-Square Correlation for Categorical Columns:\n",
            "                                 Column  Chi2_Statistic   P_Value\n",
            "0                                Gender        0.547764  0.459233\n",
            "1                              Symptoms        7.431231  0.006410\n",
            "2                               Alcohol        0.276563  0.598963\n",
            "3   Hepatitis B Surface Antigen (HBsAg)        0.038106  0.845230\n",
            "4         Hepatitis B e Antigen (HBeAg)        0.062916  0.801946\n",
            "5     Hepatitis B Core Antibody (HBcAb)        0.002167  0.962871\n",
            "6    Hepatitis C Virus Antibody (HCVAb)        1.431024  0.231597\n",
            "7                             Cirrhosis        0.000000  1.000000\n",
            "8           Endemic Countries (Endemic)        0.159028  0.690053\n",
            "9                               Smoking        0.000000  1.000000\n",
            "10                             Diabetes        3.097823  0.078397\n",
            "11                              Obesity        0.446439  0.504031\n",
            "12           Hemochromatosis (Hemochro)        0.038328  0.844787\n",
            "13          Arterial Hypertension (AHT)        0.064678  0.799250\n",
            "14    Chronic Renal Insufficiency (CRI)        0.486513  0.485487\n",
            "15   Human Immunodeficiency Virus (HIV)        0.000000  1.000000\n",
            "16  Nonalcoholic Steatohepatitis (NASH)        0.000000  1.000000\n",
            "17         Esophageal Varices (Varices)        0.000000  1.000000\n",
            "18                Splenomegaly (Spleno)        0.448908  0.502854\n",
            "19            Portal Hypertension (PHT)        0.171707  0.678599\n",
            "20         Portal Vein Thrombosis (PVT)        4.836465  0.027864\n",
            "21        Liver Metastasis (Metastasis)        7.971715  0.004751\n",
            "22     Radiological Hallmark (Hallmark)        0.159604  0.689522\n",
            "23              Performance Status (PS)       19.965142  0.000507\n",
            "24                Encephalopathy degree        5.126141  0.077068\n",
            "25                       Ascites degree       11.084321  0.003918\n",
            "Selected Numerical Columns: ['Hemoglobin', 'Albumin', 'Total Bilirubin (Total Bil)', 'Aspartate Transaminase (AST)', 'Alkaline Phosphatase (ALP)', 'Ferritin']\n",
            "Selected Categorical Columns: ['Symptoms', 'Portal Vein Thrombosis (PVT)', 'Liver Metastasis (Metastasis)', 'Performance Status (PS)', 'Ascites degree']\n",
            "['Hemoglobin', 'Albumin', 'Total Bilirubin (Total Bil)', 'Aspartate Transaminase (AST)', 'Alkaline Phosphatase (ALP)', 'Ferritin', 'Symptoms', 'Portal Vein Thrombosis (PVT)', 'Liver Metastasis (Metastasis)', 'Performance Status (PS)', 'Ascites degree']\n"
          ]
        }
      ]
    },
    {
      "cell_type": "markdown",
      "source": [
        "## SMOTE"
      ],
      "metadata": {
        "id": "P9cMuFb4ntnR"
      }
    },
    {
      "cell_type": "code",
      "source": [
        "smote = SMOTE(random_state=177)\n",
        "X_train_resampled, y_train_resampled = smote.fit_resample(X_train_correlation, y_train)"
      ],
      "metadata": {
        "colab": {
          "base_uri": "https://localhost:8080/"
        },
        "id": "HxZDScIuoa4q",
        "outputId": "42a80b88-36d7-4163-ece2-ca0582016a05"
      },
      "execution_count": null,
      "outputs": [
        {
          "output_type": "stream",
          "name": "stderr",
          "text": [
            "/usr/local/lib/python3.10/dist-packages/sklearn/base.py:474: FutureWarning: `BaseEstimator._validate_data` is deprecated in 1.6 and will be removed in 1.7. Use `sklearn.utils.validation.validate_data` instead. This function becomes public and is part of the scikit-learn developer API.\n",
            "  warnings.warn(\n",
            "/usr/local/lib/python3.10/dist-packages/sklearn/utils/_tags.py:354: FutureWarning: The SMOTE or classes from which it inherits use `_get_tags` and `_more_tags`. Please define the `__sklearn_tags__` method, or inherit from `sklearn.base.BaseEstimator` and/or other appropriate mixins such as `sklearn.base.TransformerMixin`, `sklearn.base.ClassifierMixin`, `sklearn.base.RegressorMixin`, and `sklearn.base.OutlierMixin`. From scikit-learn 1.7, not defining `__sklearn_tags__` will raise an error.\n",
            "  warnings.warn(\n"
          ]
        }
      ]
    },
    {
      "cell_type": "markdown",
      "source": [
        "### XGBoost"
      ],
      "metadata": {
        "id": "wK-pjNuNmhvl"
      }
    },
    {
      "cell_type": "code",
      "source": [
        "# Train the XGBoost model\n",
        "# Initialize the XGBoost classifier\n",
        "xgb_model = xgb.XGBClassifier(use_label_encoder=False, eval_metric='mlogloss', random_state=177)\n",
        "\n",
        "# Train the model\n",
        "xgb_model.fit(X_train_resampled, y_train_resampled)\n",
        "\n",
        "# Make predictions on the test set\n",
        "y_pred_xgb = xgb_model.predict(X_test_correlation)\n",
        "\n",
        "# Evaluate the model\n",
        "# Accuracy score\n",
        "accuracy = accuracy_score(y_test, y_pred_xgb)\n",
        "print(f\"Accuracy: {accuracy:.4f}\")\n",
        "\n",
        "# Classification report for more detailed metrics\n",
        "print(\"\\nClassification Report:\")\n",
        "print(classification_report(y_test, y_pred_xgb))\n",
        "\n",
        "# Confusion matrix\n",
        "print(\"\\nConfusion Matrix:\")\n",
        "print(confusion_matrix(y_test, y_pred_xgb))"
      ],
      "metadata": {
        "colab": {
          "base_uri": "https://localhost:8080/"
        },
        "id": "szT_bHGqbGG7",
        "outputId": "8557d6aa-a109-4a23-f472-253271e6b576"
      },
      "execution_count": null,
      "outputs": [
        {
          "output_type": "stream",
          "name": "stdout",
          "text": [
            "Accuracy: 0.7576\n",
            "\n",
            "Classification Report:\n",
            "              precision    recall  f1-score   support\n",
            "\n",
            "           0       0.78      0.54      0.64        13\n",
            "           1       0.75      0.90      0.82        20\n",
            "\n",
            "    accuracy                           0.76        33\n",
            "   macro avg       0.76      0.72      0.73        33\n",
            "weighted avg       0.76      0.76      0.75        33\n",
            "\n",
            "\n",
            "Confusion Matrix:\n",
            "[[ 7  6]\n",
            " [ 2 18]]\n"
          ]
        },
        {
          "output_type": "stream",
          "name": "stderr",
          "text": [
            "/usr/local/lib/python3.10/dist-packages/xgboost/core.py:158: UserWarning: [12:53:06] WARNING: /workspace/src/learner.cc:740: \n",
            "Parameters: { \"use_label_encoder\" } are not used.\n",
            "\n",
            "  warnings.warn(smsg, UserWarning)\n"
          ]
        }
      ]
    },
    {
      "cell_type": "markdown",
      "source": [
        "### Random Forest"
      ],
      "metadata": {
        "id": "aSQo9p8nmert"
      }
    },
    {
      "cell_type": "code",
      "source": [
        "# Train the Random Forest model\n",
        "# Initialize the Random Forest classifier\n",
        "rf_model = RandomForestClassifier(n_estimators=100, random_state=177)\n",
        "\n",
        "# Train the model\n",
        "rf_model.fit(X_train_resampled, y_train_resampled)\n",
        "\n",
        "# Make predictions on the test set\n",
        "y_pred_rf = rf_model.predict(X_test_correlation)\n",
        "\n",
        "# Evaluate the model\n",
        "# Accuracy score\n",
        "accuracy_rf = accuracy_score(y_test, y_pred_rf)\n",
        "print(f\"Accuracy: {accuracy_rf:.4f}\")\n",
        "\n",
        "# Classification report for more detailed metrics\n",
        "print(\"\\nClassification Report:\")\n",
        "print(classification_report(y_test, y_pred_rf))\n",
        "\n",
        "# Confusion matrix\n",
        "print(\"\\nConfusion Matrix:\")\n",
        "print(confusion_matrix(y_test, y_pred_rf))\n"
      ],
      "metadata": {
        "colab": {
          "base_uri": "https://localhost:8080/"
        },
        "id": "XWDU4DGncIyD",
        "outputId": "f1bc5e4e-7b82-4336-a736-29f78cc0d213"
      },
      "execution_count": null,
      "outputs": [
        {
          "output_type": "stream",
          "name": "stdout",
          "text": [
            "Accuracy: 0.7576\n",
            "\n",
            "Classification Report:\n",
            "              precision    recall  f1-score   support\n",
            "\n",
            "           0       0.73      0.62      0.67        13\n",
            "           1       0.77      0.85      0.81        20\n",
            "\n",
            "    accuracy                           0.76        33\n",
            "   macro avg       0.75      0.73      0.74        33\n",
            "weighted avg       0.75      0.76      0.75        33\n",
            "\n",
            "\n",
            "Confusion Matrix:\n",
            "[[ 8  5]\n",
            " [ 3 17]]\n"
          ]
        }
      ]
    },
    {
      "cell_type": "markdown",
      "source": [
        "### SVM"
      ],
      "metadata": {
        "id": "BqhrLaWSmmCT"
      }
    },
    {
      "cell_type": "code",
      "source": [
        "# Initialize the SVM classifier (you can use 'linear', 'rbf', 'poly' kernels as needed)\n",
        "svm_model = SVC(kernel='linear', random_state=177)\n",
        "\n",
        "# Train the SVM model\n",
        "svm_model.fit(X_train_resampled, y_train_resampled)\n",
        "\n",
        "# Make predictions on the test set\n",
        "y_pred_svm = svm_model.predict(X_test_correlation)\n",
        "\n",
        "# Evaluate the model\n",
        "# Accuracy score\n",
        "accuracy_svm = accuracy_score(y_test, y_pred_svm)\n",
        "print(f\"Accuracy: {accuracy_svm:.4f}\")\n",
        "\n",
        "# Classification report for more detailed metrics\n",
        "print(\"\\nClassification Report:\")\n",
        "print(classification_report(y_test, y_pred_svm))\n",
        "\n",
        "# Confusion matrix\n",
        "print(\"\\nConfusion Matrix:\")\n",
        "print(confusion_matrix(y_test, y_pred_svm))"
      ],
      "metadata": {
        "colab": {
          "base_uri": "https://localhost:8080/"
        },
        "id": "4DqYjcysmnS-",
        "outputId": "6d375da3-bf26-4bb1-ded4-3ad8a82e6d16"
      },
      "execution_count": null,
      "outputs": [
        {
          "output_type": "stream",
          "name": "stdout",
          "text": [
            "Accuracy: 0.6667\n",
            "\n",
            "Classification Report:\n",
            "              precision    recall  f1-score   support\n",
            "\n",
            "           0       0.56      0.77      0.65        13\n",
            "           1       0.80      0.60      0.69        20\n",
            "\n",
            "    accuracy                           0.67        33\n",
            "   macro avg       0.68      0.68      0.67        33\n",
            "weighted avg       0.70      0.67      0.67        33\n",
            "\n",
            "\n",
            "Confusion Matrix:\n",
            "[[10  3]\n",
            " [ 8 12]]\n"
          ]
        }
      ]
    },
    {
      "cell_type": "markdown",
      "source": [
        "## Without SMOTE"
      ],
      "metadata": {
        "id": "CSM_I8S8nwc2"
      }
    },
    {
      "cell_type": "markdown",
      "source": [
        "### XGBoost"
      ],
      "metadata": {
        "id": "Kr7aHEmso1YN"
      }
    },
    {
      "cell_type": "code",
      "source": [
        "# Train the XGBoost model\n",
        "# Initialize the XGBoost classifier\n",
        "xgb_model = xgb.XGBClassifier(use_label_encoder=False, eval_metric='mlogloss', random_state=177)\n",
        "\n",
        "# Train the model\n",
        "xgb_model.fit(X_train_correlation, y_train)\n",
        "\n",
        "# Make predictions on the test set\n",
        "y_pred_xgb = xgb_model.predict(X_test_correlation)\n",
        "\n",
        "# Evaluate the model\n",
        "# Accuracy score\n",
        "accuracy = accuracy_score(y_test, y_pred_xgb)\n",
        "print(f\"Accuracy: {accuracy:.4f}\")\n",
        "\n",
        "# Classification report for more detailed metrics\n",
        "print(\"\\nClassification Report:\")\n",
        "print(classification_report(y_test, y_pred_xgb))\n",
        "\n",
        "# Confusion matrix\n",
        "print(\"\\nConfusion Matrix:\")\n",
        "print(confusion_matrix(y_test, y_pred_xgb))"
      ],
      "metadata": {
        "colab": {
          "base_uri": "https://localhost:8080/"
        },
        "outputId": "17ea92a2-e606-49e9-cfa5-fa0935d0f1a8",
        "id": "yn1fvZgdo1YO"
      },
      "execution_count": null,
      "outputs": [
        {
          "output_type": "stream",
          "name": "stdout",
          "text": [
            "Accuracy: 0.7576\n",
            "\n",
            "Classification Report:\n",
            "              precision    recall  f1-score   support\n",
            "\n",
            "           0       0.78      0.54      0.64        13\n",
            "           1       0.75      0.90      0.82        20\n",
            "\n",
            "    accuracy                           0.76        33\n",
            "   macro avg       0.76      0.72      0.73        33\n",
            "weighted avg       0.76      0.76      0.75        33\n",
            "\n",
            "\n",
            "Confusion Matrix:\n",
            "[[ 7  6]\n",
            " [ 2 18]]\n"
          ]
        },
        {
          "output_type": "stream",
          "name": "stderr",
          "text": [
            "/usr/local/lib/python3.10/dist-packages/xgboost/core.py:158: UserWarning: [12:53:06] WARNING: /workspace/src/learner.cc:740: \n",
            "Parameters: { \"use_label_encoder\" } are not used.\n",
            "\n",
            "  warnings.warn(smsg, UserWarning)\n"
          ]
        }
      ]
    },
    {
      "cell_type": "markdown",
      "source": [
        "### Random Forest"
      ],
      "metadata": {
        "id": "s53onywvo1YQ"
      }
    },
    {
      "cell_type": "code",
      "source": [
        "# Train the Random Forest model\n",
        "# Initialize the Random Forest classifier\n",
        "rf_model = RandomForestClassifier(n_estimators=100, random_state=177)\n",
        "\n",
        "# Train the model\n",
        "rf_model.fit(X_train_correlation, y_train)\n",
        "\n",
        "# Make predictions on the test set\n",
        "y_pred_rf = rf_model.predict(X_test_correlation)\n",
        "\n",
        "# Evaluate the model\n",
        "# Accuracy score\n",
        "accuracy_rf = accuracy_score(y_test, y_pred_rf)\n",
        "print(f\"Accuracy: {accuracy_rf:.4f}\")\n",
        "\n",
        "# Classification report for more detailed metrics\n",
        "print(\"\\nClassification Report:\")\n",
        "print(classification_report(y_test, y_pred_rf))\n",
        "\n",
        "# Confusion matrix\n",
        "print(\"\\nConfusion Matrix:\")\n",
        "print(confusion_matrix(y_test, y_pred_rf))\n"
      ],
      "metadata": {
        "colab": {
          "base_uri": "https://localhost:8080/"
        },
        "outputId": "a29230de-9676-4a2a-fafc-ead425ca2e38",
        "id": "SJY0VvN0o1YR"
      },
      "execution_count": null,
      "outputs": [
        {
          "output_type": "stream",
          "name": "stdout",
          "text": [
            "Accuracy: 0.7273\n",
            "\n",
            "Classification Report:\n",
            "              precision    recall  f1-score   support\n",
            "\n",
            "           0       0.70      0.54      0.61        13\n",
            "           1       0.74      0.85      0.79        20\n",
            "\n",
            "    accuracy                           0.73        33\n",
            "   macro avg       0.72      0.69      0.70        33\n",
            "weighted avg       0.72      0.73      0.72        33\n",
            "\n",
            "\n",
            "Confusion Matrix:\n",
            "[[ 7  6]\n",
            " [ 3 17]]\n"
          ]
        }
      ]
    },
    {
      "cell_type": "markdown",
      "source": [
        "### SVM"
      ],
      "metadata": {
        "id": "OQ6ZAEeeo1YS"
      }
    },
    {
      "cell_type": "code",
      "source": [
        "# Initialize the SVM classifier (you can use 'linear', 'rbf', 'poly' kernels as needed)\n",
        "svm_model = SVC(kernel='linear', random_state=177)\n",
        "\n",
        "# Train the SVM model\n",
        "svm_model.fit(X_train_correlation, y_train)\n",
        "\n",
        "# Make predictions on the test set\n",
        "y_pred_svm = svm_model.predict(X_test_correlation)\n",
        "\n",
        "# Evaluate the model\n",
        "# Accuracy score\n",
        "accuracy_svm = accuracy_score(y_test, y_pred_svm)\n",
        "print(f\"Accuracy: {accuracy_svm:.4f}\")\n",
        "\n",
        "# Classification report for more detailed metrics\n",
        "print(\"\\nClassification Report:\")\n",
        "print(classification_report(y_test, y_pred_svm))\n",
        "\n",
        "# Confusion matrix\n",
        "print(\"\\nConfusion Matrix:\")\n",
        "print(confusion_matrix(y_test, y_pred_svm))"
      ],
      "metadata": {
        "colab": {
          "base_uri": "https://localhost:8080/"
        },
        "outputId": "8c0a1715-fc0d-4a96-a481-450072b3e080",
        "id": "-3wl7giyo1YT"
      },
      "execution_count": null,
      "outputs": [
        {
          "output_type": "stream",
          "name": "stdout",
          "text": [
            "Accuracy: 0.6667\n",
            "\n",
            "Classification Report:\n",
            "              precision    recall  f1-score   support\n",
            "\n",
            "           0       0.57      0.62      0.59        13\n",
            "           1       0.74      0.70      0.72        20\n",
            "\n",
            "    accuracy                           0.67        33\n",
            "   macro avg       0.65      0.66      0.66        33\n",
            "weighted avg       0.67      0.67      0.67        33\n",
            "\n",
            "\n",
            "Confusion Matrix:\n",
            "[[ 8  5]\n",
            " [ 6 14]]\n"
          ]
        }
      ]
    },
    {
      "cell_type": "markdown",
      "source": [
        "# With Feature Selection [using XGB]\n"
      ],
      "metadata": {
        "id": "d_rotLmuryRN"
      }
    },
    {
      "cell_type": "code",
      "source": [
        "# Initialize the XGBoost classifier\n",
        "xgb_fs = XGBClassifier(use_label_encoder=False, eval_metric='mlogloss', random_state=177)\n",
        "\n",
        "# Fit the model to the training data\n",
        "xgb_fs.fit(X_train, y_train)\n",
        "\n",
        "# Get feature importances\n",
        "importances = xgb_fs.feature_importances_\n",
        "\n",
        "# Create a DataFrame for feature importances\n",
        "feature_importances = pd.DataFrame({\n",
        "    'Feature': X_train.columns,\n",
        "    'Importance': importances\n",
        "}).sort_values(by='Importance', ascending=False)\n",
        "print(\"Feature Importances:\")\n",
        "print(feature_importances)\n",
        "\n",
        "# Select features based on a threshold (e.g., median importance)\n",
        "threshold = np.median(importances)\n",
        "selected_features_xgb = feature_importances[feature_importances['Importance'] > threshold]['Feature']\n",
        "print(\"\\nSelected Features:\")\n",
        "print(selected_features_xgb)\n",
        "\n",
        "# Reduce the training and test datasets to the selected features\n",
        "X_train_xgb = X_train[selected_features_xgb]\n",
        "X_test_xgb = X_test[selected_features_xgb]"
      ],
      "metadata": {
        "collapsed": true,
        "id": "X4Gqge4A6JhQ",
        "colab": {
          "base_uri": "https://localhost:8080/"
        },
        "outputId": "d562be81-941b-4cd1-c5f2-1578d12ee30d"
      },
      "execution_count": null,
      "outputs": [
        {
          "output_type": "stream",
          "name": "stdout",
          "text": [
            "Feature Importances:\n",
            "                                      Feature  Importance\n",
            "9                                     Smoking    0.088096\n",
            "26                    Performance Status (PS)    0.086923\n",
            "30                    Alpha-Fetoprotein (AFP)    0.085999\n",
            "40                 Alkaline Phosphatase (ALP)    0.065843\n",
            "48                                   Ferritin    0.062252\n",
            "46                                       Iron    0.057214\n",
            "1                                    Symptoms    0.045396\n",
            "24       Grams of Alcohol per day (Grams/day)    0.042527\n",
            "14          Chronic Renal Insufficiency (CRI)    0.039012\n",
            "39           Gamma Glutamyl Transferase (GGT)    0.037264\n",
            "31                                 Hemoglobin    0.031283\n",
            "23                     Age at diagnosis (Age)    0.030918\n",
            "29       International Normalised Ratio (INR)    0.028303\n",
            "44      Major Dimension of Nodule (Major Dim)    0.025767\n",
            "41                        Total Proteins (TP)    0.024193\n",
            "28                             Ascites degree    0.023878\n",
            "34                                  Platelets    0.023420\n",
            "6          Hepatitis C Virus Antibody (HCVAb)    0.021507\n",
            "38               Aspartate Transaminase (AST)    0.020399\n",
            "37                 Alanine Transaminase (ALT)    0.019198\n",
            "21              Liver Metastasis (Metastasis)    0.018728\n",
            "45                Direct Bilirubin (Dir. Bil)    0.018496\n",
            "13                Arterial Hypertension (AHT)    0.018440\n",
            "42                                 Creatinine    0.017000\n",
            "25  Packs of cigarettes per year (Packs/year)    0.014578\n",
            "33                                 Leukocytes    0.011237\n",
            "36                Total Bilirubin (Total Bil)    0.011184\n",
            "10                                   Diabetes    0.010881\n",
            "32              Mean Corpuscular Volume (MCV)    0.009233\n",
            "47                    Oxygen Saturation (Sat)    0.006279\n",
            "43                Number of Nodules (Nodules)    0.003050\n",
            "35                                    Albumin    0.001502\n",
            "0                                      Gender    0.000000\n",
            "16        Nonalcoholic Steatohepatitis (NASH)    0.000000\n",
            "15         Human Immunodeficiency Virus (HIV)    0.000000\n",
            "11                                    Obesity    0.000000\n",
            "12                 Hemochromatosis (Hemochro)    0.000000\n",
            "4               Hepatitis B e Antigen (HBeAg)    0.000000\n",
            "5           Hepatitis B Core Antibody (HBcAb)    0.000000\n",
            "7                                   Cirrhosis    0.000000\n",
            "8                 Endemic Countries (Endemic)    0.000000\n",
            "2                                     Alcohol    0.000000\n",
            "3         Hepatitis B Surface Antigen (HBsAg)    0.000000\n",
            "27                      Encephalopathy degree    0.000000\n",
            "19                  Portal Hypertension (PHT)    0.000000\n",
            "20               Portal Vein Thrombosis (PVT)    0.000000\n",
            "22           Radiological Hallmark (Hallmark)    0.000000\n",
            "18                      Splenomegaly (Spleno)    0.000000\n",
            "17               Esophageal Varices (Varices)    0.000000\n",
            "\n",
            "Selected Features:\n",
            "9                                   Smoking\n",
            "26                  Performance Status (PS)\n",
            "30                  Alpha-Fetoprotein (AFP)\n",
            "40               Alkaline Phosphatase (ALP)\n",
            "48                                 Ferritin\n",
            "46                                     Iron\n",
            "1                                  Symptoms\n",
            "24     Grams of Alcohol per day (Grams/day)\n",
            "14        Chronic Renal Insufficiency (CRI)\n",
            "39         Gamma Glutamyl Transferase (GGT)\n",
            "31                               Hemoglobin\n",
            "23                   Age at diagnosis (Age)\n",
            "29     International Normalised Ratio (INR)\n",
            "44    Major Dimension of Nodule (Major Dim)\n",
            "41                      Total Proteins (TP)\n",
            "28                           Ascites degree\n",
            "34                                Platelets\n",
            "6        Hepatitis C Virus Antibody (HCVAb)\n",
            "38             Aspartate Transaminase (AST)\n",
            "37               Alanine Transaminase (ALT)\n",
            "21            Liver Metastasis (Metastasis)\n",
            "45              Direct Bilirubin (Dir. Bil)\n",
            "13              Arterial Hypertension (AHT)\n",
            "42                               Creatinine\n",
            "Name: Feature, dtype: object\n"
          ]
        },
        {
          "output_type": "stream",
          "name": "stderr",
          "text": [
            "/usr/local/lib/python3.10/dist-packages/xgboost/core.py:158: UserWarning: [12:53:07] WARNING: /workspace/src/learner.cc:740: \n",
            "Parameters: { \"use_label_encoder\" } are not used.\n",
            "\n",
            "  warnings.warn(smsg, UserWarning)\n"
          ]
        }
      ]
    },
    {
      "cell_type": "markdown",
      "source": [
        "## SMOTE"
      ],
      "metadata": {
        "id": "5cqN0Uxmx-G0"
      }
    },
    {
      "cell_type": "code",
      "source": [
        "smote = SMOTE(random_state=177)\n",
        "X_train_resampled, y_train_resampled = smote.fit_resample(X_train_xgb, y_train)"
      ],
      "metadata": {
        "colab": {
          "base_uri": "https://localhost:8080/"
        },
        "outputId": "2d5d7565-6b4d-4276-e6d7-7f74273315f6",
        "id": "Wp9tfa4lx-G4"
      },
      "execution_count": null,
      "outputs": [
        {
          "output_type": "stream",
          "name": "stderr",
          "text": [
            "/usr/local/lib/python3.10/dist-packages/sklearn/base.py:474: FutureWarning: `BaseEstimator._validate_data` is deprecated in 1.6 and will be removed in 1.7. Use `sklearn.utils.validation.validate_data` instead. This function becomes public and is part of the scikit-learn developer API.\n",
            "  warnings.warn(\n",
            "/usr/local/lib/python3.10/dist-packages/sklearn/utils/_tags.py:354: FutureWarning: The SMOTE or classes from which it inherits use `_get_tags` and `_more_tags`. Please define the `__sklearn_tags__` method, or inherit from `sklearn.base.BaseEstimator` and/or other appropriate mixins such as `sklearn.base.TransformerMixin`, `sklearn.base.ClassifierMixin`, `sklearn.base.RegressorMixin`, and `sklearn.base.OutlierMixin`. From scikit-learn 1.7, not defining `__sklearn_tags__` will raise an error.\n",
            "  warnings.warn(\n"
          ]
        }
      ]
    },
    {
      "cell_type": "markdown",
      "source": [
        "### XGBoost"
      ],
      "metadata": {
        "id": "2WKm7piXx-G5"
      }
    },
    {
      "cell_type": "code",
      "source": [
        "# Train the XGBoost model\n",
        "# Initialize the XGBoost classifier\n",
        "xgb_model = xgb.XGBClassifier(use_label_encoder=False, eval_metric='mlogloss', random_state=177)\n",
        "\n",
        "# Train the model\n",
        "xgb_model.fit(X_train_resampled, y_train_resampled)\n",
        "\n",
        "# Make predictions on the test set\n",
        "y_pred_xgb = xgb_model.predict(X_test_xgb)\n",
        "\n",
        "# Evaluate the model\n",
        "# Accuracy score\n",
        "accuracy = accuracy_score(y_test, y_pred_xgb)\n",
        "print(f\"Accuracy: {accuracy:.4f}\")\n",
        "\n",
        "# Classification report for more detailed metrics\n",
        "print(\"\\nClassification Report:\")\n",
        "print(classification_report(y_test, y_pred_xgb))\n",
        "\n",
        "# Confusion matrix\n",
        "print(\"\\nConfusion Matrix:\")\n",
        "print(confusion_matrix(y_test, y_pred_xgb))"
      ],
      "metadata": {
        "colab": {
          "base_uri": "https://localhost:8080/"
        },
        "outputId": "86563725-1001-4853-91da-dbe9378a3133",
        "id": "5bm56ifFx-G5"
      },
      "execution_count": null,
      "outputs": [
        {
          "output_type": "stream",
          "name": "stderr",
          "text": [
            "/usr/local/lib/python3.10/dist-packages/xgboost/core.py:158: UserWarning: [12:53:07] WARNING: /workspace/src/learner.cc:740: \n",
            "Parameters: { \"use_label_encoder\" } are not used.\n",
            "\n",
            "  warnings.warn(smsg, UserWarning)\n"
          ]
        },
        {
          "output_type": "stream",
          "name": "stdout",
          "text": [
            "Accuracy: 0.6364\n",
            "\n",
            "Classification Report:\n",
            "              precision    recall  f1-score   support\n",
            "\n",
            "           0       0.54      0.54      0.54        13\n",
            "           1       0.70      0.70      0.70        20\n",
            "\n",
            "    accuracy                           0.64        33\n",
            "   macro avg       0.62      0.62      0.62        33\n",
            "weighted avg       0.64      0.64      0.64        33\n",
            "\n",
            "\n",
            "Confusion Matrix:\n",
            "[[ 7  6]\n",
            " [ 6 14]]\n"
          ]
        }
      ]
    },
    {
      "cell_type": "markdown",
      "source": [
        "### Random Forest"
      ],
      "metadata": {
        "id": "e6VYdRd9x-G6"
      }
    },
    {
      "cell_type": "code",
      "source": [
        "# Train the Random Forest model\n",
        "# Initialize the Random Forest classifier\n",
        "rf_model = RandomForestClassifier(n_estimators=100, random_state=177)\n",
        "\n",
        "# Train the model\n",
        "rf_model.fit(X_train_resampled, y_train_resampled)\n",
        "\n",
        "# Make predictions on the test set\n",
        "y_pred_rf = rf_model.predict(X_test_xgb)\n",
        "\n",
        "# Evaluate the model\n",
        "# Accuracy score\n",
        "accuracy_rf = accuracy_score(y_test, y_pred_rf)\n",
        "print(f\"Accuracy: {accuracy_rf:.4f}\")\n",
        "\n",
        "# Classification report for more detailed metrics\n",
        "print(\"\\nClassification Report:\")\n",
        "print(classification_report(y_test, y_pred_rf))\n",
        "\n",
        "# Confusion matrix\n",
        "print(\"\\nConfusion Matrix:\")\n",
        "print(confusion_matrix(y_test, y_pred_rf))\n"
      ],
      "metadata": {
        "colab": {
          "base_uri": "https://localhost:8080/"
        },
        "outputId": "9b43d024-0e9d-4e15-f9c0-44dae60440d5",
        "id": "yaFut6CDx-G7"
      },
      "execution_count": null,
      "outputs": [
        {
          "output_type": "stream",
          "name": "stdout",
          "text": [
            "Accuracy: 0.6364\n",
            "\n",
            "Classification Report:\n",
            "              precision    recall  f1-score   support\n",
            "\n",
            "           0       0.55      0.46      0.50        13\n",
            "           1       0.68      0.75      0.71        20\n",
            "\n",
            "    accuracy                           0.64        33\n",
            "   macro avg       0.61      0.61      0.61        33\n",
            "weighted avg       0.63      0.64      0.63        33\n",
            "\n",
            "\n",
            "Confusion Matrix:\n",
            "[[ 6  7]\n",
            " [ 5 15]]\n"
          ]
        }
      ]
    },
    {
      "cell_type": "markdown",
      "source": [
        "### SVM"
      ],
      "metadata": {
        "id": "lxJxfBKox-G7"
      }
    },
    {
      "cell_type": "code",
      "source": [
        "# Initialize the SVM classifier (you can use 'linear', 'rbf', 'poly' kernels as needed)\n",
        "svm_model = SVC(kernel='linear', random_state=177)\n",
        "\n",
        "# Train the SVM model\n",
        "svm_model.fit(X_train_resampled, y_train_resampled)\n",
        "\n",
        "# Make predictions on the test set\n",
        "y_pred_svm = svm_model.predict(X_test_xgb)\n",
        "\n",
        "# Evaluate the model\n",
        "# Accuracy score\n",
        "accuracy_svm = accuracy_score(y_test, y_pred_svm)\n",
        "print(f\"Accuracy: {accuracy_svm:.4f}\")\n",
        "\n",
        "# Classification report for more detailed metrics\n",
        "print(\"\\nClassification Report:\")\n",
        "print(classification_report(y_test, y_pred_svm))\n",
        "\n",
        "# Confusion matrix\n",
        "print(\"\\nConfusion Matrix:\")\n",
        "print(confusion_matrix(y_test, y_pred_svm))"
      ],
      "metadata": {
        "colab": {
          "base_uri": "https://localhost:8080/"
        },
        "outputId": "3f3cdb24-ee1a-4a0c-91d5-3694f73815ef",
        "id": "E693Wo1ux-G8"
      },
      "execution_count": null,
      "outputs": [
        {
          "output_type": "stream",
          "name": "stdout",
          "text": [
            "Accuracy: 0.6970\n",
            "\n",
            "Classification Report:\n",
            "              precision    recall  f1-score   support\n",
            "\n",
            "           0       0.58      0.85      0.69        13\n",
            "           1       0.86      0.60      0.71        20\n",
            "\n",
            "    accuracy                           0.70        33\n",
            "   macro avg       0.72      0.72      0.70        33\n",
            "weighted avg       0.75      0.70      0.70        33\n",
            "\n",
            "\n",
            "Confusion Matrix:\n",
            "[[11  2]\n",
            " [ 8 12]]\n"
          ]
        }
      ]
    },
    {
      "cell_type": "markdown",
      "source": [
        "## Without SMOTE"
      ],
      "metadata": {
        "id": "GNvxp2Fgx-G9"
      }
    },
    {
      "cell_type": "markdown",
      "source": [
        "### XGBoost"
      ],
      "metadata": {
        "id": "9BSieZN9x-G9"
      }
    },
    {
      "cell_type": "code",
      "source": [
        "# Train the XGBoost model\n",
        "# Initialize the XGBoost classifier\n",
        "xgb_model = xgb.XGBClassifier(use_label_encoder=False, eval_metric='mlogloss', random_state=177)\n",
        "\n",
        "# Train the model\n",
        "xgb_model.fit(X_train_xgb, y_train)\n",
        "\n",
        "# Make predictions on the test set\n",
        "y_pred_xgb = xgb_model.predict(X_test_xgb)\n",
        "\n",
        "# Evaluate the model\n",
        "# Accuracy score\n",
        "accuracy = accuracy_score(y_test, y_pred_xgb)\n",
        "print(f\"Accuracy: {accuracy:.4f}\")\n",
        "\n",
        "# Classification report for more detailed metrics\n",
        "print(\"\\nClassification Report:\")\n",
        "print(classification_report(y_test, y_pred_xgb))\n",
        "\n",
        "# Confusion matrix\n",
        "print(\"\\nConfusion Matrix:\")\n",
        "print(confusion_matrix(y_test, y_pred_xgb))"
      ],
      "metadata": {
        "colab": {
          "base_uri": "https://localhost:8080/"
        },
        "outputId": "5f0c2993-eb4b-4468-e73b-2d6945809f68",
        "id": "SJuqN2C7x-G-"
      },
      "execution_count": null,
      "outputs": [
        {
          "output_type": "stream",
          "name": "stdout",
          "text": [
            "Accuracy: 0.6364\n",
            "\n",
            "Classification Report:\n",
            "              precision    recall  f1-score   support\n",
            "\n",
            "           0       0.55      0.46      0.50        13\n",
            "           1       0.68      0.75      0.71        20\n",
            "\n",
            "    accuracy                           0.64        33\n",
            "   macro avg       0.61      0.61      0.61        33\n",
            "weighted avg       0.63      0.64      0.63        33\n",
            "\n",
            "\n",
            "Confusion Matrix:\n",
            "[[ 6  7]\n",
            " [ 5 15]]\n"
          ]
        },
        {
          "output_type": "stream",
          "name": "stderr",
          "text": [
            "/usr/local/lib/python3.10/dist-packages/xgboost/core.py:158: UserWarning: [12:53:07] WARNING: /workspace/src/learner.cc:740: \n",
            "Parameters: { \"use_label_encoder\" } are not used.\n",
            "\n",
            "  warnings.warn(smsg, UserWarning)\n"
          ]
        }
      ]
    },
    {
      "cell_type": "markdown",
      "source": [
        "### Random Forest"
      ],
      "metadata": {
        "id": "14FX8Quex-G-"
      }
    },
    {
      "cell_type": "code",
      "source": [
        "# Train the Random Forest model\n",
        "# Initialize the Random Forest classifier\n",
        "rf_model = RandomForestClassifier(n_estimators=100, random_state=177)\n",
        "\n",
        "# Train the model\n",
        "rf_model.fit(X_train_xgb, y_train)\n",
        "\n",
        "# Make predictions on the test set\n",
        "y_pred_rf = rf_model.predict(X_test_xgb)\n",
        "\n",
        "# Evaluate the model\n",
        "# Accuracy score\n",
        "accuracy_rf = accuracy_score(y_test, y_pred_rf)\n",
        "print(f\"Accuracy: {accuracy_rf:.4f}\")\n",
        "\n",
        "# Classification report for more detailed metrics\n",
        "print(\"\\nClassification Report:\")\n",
        "print(classification_report(y_test, y_pred_rf))\n",
        "\n",
        "# Confusion matrix\n",
        "print(\"\\nConfusion Matrix:\")\n",
        "print(confusion_matrix(y_test, y_pred_rf))\n"
      ],
      "metadata": {
        "colab": {
          "base_uri": "https://localhost:8080/"
        },
        "outputId": "e89008c6-ed1d-441e-a0f8-db709bc2f7a9",
        "id": "gBiY4IhBx-G_"
      },
      "execution_count": null,
      "outputs": [
        {
          "output_type": "stream",
          "name": "stdout",
          "text": [
            "Accuracy: 0.7576\n",
            "\n",
            "Classification Report:\n",
            "              precision    recall  f1-score   support\n",
            "\n",
            "           0       0.78      0.54      0.64        13\n",
            "           1       0.75      0.90      0.82        20\n",
            "\n",
            "    accuracy                           0.76        33\n",
            "   macro avg       0.76      0.72      0.73        33\n",
            "weighted avg       0.76      0.76      0.75        33\n",
            "\n",
            "\n",
            "Confusion Matrix:\n",
            "[[ 7  6]\n",
            " [ 2 18]]\n"
          ]
        }
      ]
    },
    {
      "cell_type": "markdown",
      "source": [
        "### SVM"
      ],
      "metadata": {
        "id": "m0AxgzRMx-G_"
      }
    },
    {
      "cell_type": "code",
      "source": [
        "# Initialize the SVM classifier (you can use 'linear', 'rbf', 'poly' kernels as needed)\n",
        "svm_model = SVC(kernel='linear', random_state=177)\n",
        "\n",
        "# Train the SVM model\n",
        "svm_model.fit(X_train_xgb, y_train)\n",
        "\n",
        "# Make predictions on the test set\n",
        "y_pred_svm = svm_model.predict(X_test_xgb)\n",
        "\n",
        "# Evaluate the model\n",
        "# Accuracy score\n",
        "accuracy_svm = accuracy_score(y_test, y_pred_svm)\n",
        "print(f\"Accuracy: {accuracy_svm:.4f}\")\n",
        "\n",
        "# Classification report for more detailed metrics\n",
        "print(\"\\nClassification Report:\")\n",
        "print(classification_report(y_test, y_pred_svm))\n",
        "\n",
        "# Confusion matrix\n",
        "print(\"\\nConfusion Matrix:\")\n",
        "print(confusion_matrix(y_test, y_pred_svm))"
      ],
      "metadata": {
        "colab": {
          "base_uri": "https://localhost:8080/"
        },
        "outputId": "397acdcc-0df8-46f6-e66c-f45e7e29603c",
        "id": "RsWVpFGIx-G_"
      },
      "execution_count": null,
      "outputs": [
        {
          "output_type": "stream",
          "name": "stdout",
          "text": [
            "Accuracy: 0.7879\n",
            "\n",
            "Classification Report:\n",
            "              precision    recall  f1-score   support\n",
            "\n",
            "           0       0.69      0.85      0.76        13\n",
            "           1       0.88      0.75      0.81        20\n",
            "\n",
            "    accuracy                           0.79        33\n",
            "   macro avg       0.78      0.80      0.78        33\n",
            "weighted avg       0.81      0.79      0.79        33\n",
            "\n",
            "\n",
            "Confusion Matrix:\n",
            "[[11  2]\n",
            " [ 5 15]]\n"
          ]
        }
      ]
    },
    {
      "cell_type": "markdown",
      "source": [
        "# With Feature Selection [using Random Forest]\n"
      ],
      "metadata": {
        "id": "ABXN8Grf1Djc"
      }
    },
    {
      "cell_type": "code",
      "source": [
        "# Initialize the XGBoost classifier\n",
        "rf_fs = RandomForestClassifier(n_estimators=100, random_state=177)\n",
        "\n",
        "# Fit the model to the training data\n",
        "rf_fs.fit(X_train, y_train)\n",
        "\n",
        "# Get feature importances\n",
        "importances = rf_fs.feature_importances_\n",
        "\n",
        "# Create a DataFrame for feature importances\n",
        "feature_importances = pd.DataFrame({\n",
        "    'Feature': X_train.columns,\n",
        "    'Importance': importances\n",
        "}).sort_values(by='Importance', ascending=False)\n",
        "print(\"Feature Importances:\")\n",
        "print(feature_importances)\n",
        "\n",
        "# Select features based on a threshold (e.g., median importance)\n",
        "threshold = np.median(importances)\n",
        "selected_features_rf = feature_importances[feature_importances['Importance'] > threshold]['Feature']\n",
        "print(\"\\nSelected Features:\")\n",
        "print(selected_features_rf)\n",
        "\n",
        "# Reduce the training and test datasets to the selected features\n",
        "X_train_rf = X_train[selected_features_rf]\n",
        "X_test_rf = X_test[selected_features_rf]"
      ],
      "metadata": {
        "colab": {
          "base_uri": "https://localhost:8080/"
        },
        "outputId": "3d226295-de23-463b-e9e9-5ffcd0f74e17",
        "id": "CNVKzknQ1Dje"
      },
      "execution_count": null,
      "outputs": [
        {
          "output_type": "stream",
          "name": "stdout",
          "text": [
            "Feature Importances:\n",
            "                                      Feature  Importance\n",
            "30                    Alpha-Fetoprotein (AFP)    0.102950\n",
            "40                 Alkaline Phosphatase (ALP)    0.088777\n",
            "31                                 Hemoglobin    0.059176\n",
            "48                                   Ferritin    0.049713\n",
            "46                                       Iron    0.046776\n",
            "39           Gamma Glutamyl Transferase (GGT)    0.044377\n",
            "38               Aspartate Transaminase (AST)    0.039274\n",
            "44      Major Dimension of Nodule (Major Dim)    0.038596\n",
            "23                     Age at diagnosis (Age)    0.037741\n",
            "45                Direct Bilirubin (Dir. Bil)    0.035277\n",
            "26                    Performance Status (PS)    0.035041\n",
            "33                                 Leukocytes    0.033269\n",
            "34                                  Platelets    0.031322\n",
            "32              Mean Corpuscular Volume (MCV)    0.030378\n",
            "36                Total Bilirubin (Total Bil)    0.029898\n",
            "29       International Normalised Ratio (INR)    0.029465\n",
            "42                                 Creatinine    0.027349\n",
            "37                 Alanine Transaminase (ALT)    0.027272\n",
            "41                        Total Proteins (TP)    0.024939\n",
            "35                                    Albumin    0.022998\n",
            "28                             Ascites degree    0.016877\n",
            "47                    Oxygen Saturation (Sat)    0.016799\n",
            "24       Grams of Alcohol per day (Grams/day)    0.011907\n",
            "21              Liver Metastasis (Metastasis)    0.011888\n",
            "25  Packs of cigarettes per year (Packs/year)    0.011871\n",
            "1                                    Symptoms    0.010644\n",
            "43                Number of Nodules (Nodules)    0.008581\n",
            "27                      Encephalopathy degree    0.008460\n",
            "20               Portal Vein Thrombosis (PVT)    0.007752\n",
            "10                                   Diabetes    0.007395\n",
            "3         Hepatitis B Surface Antigen (HBsAg)    0.007343\n",
            "6          Hepatitis C Virus Antibody (HCVAb)    0.005466\n",
            "14          Chronic Renal Insufficiency (CRI)    0.005433\n",
            "9                                     Smoking    0.004263\n",
            "22           Radiological Hallmark (Hallmark)    0.003689\n",
            "17               Esophageal Varices (Varices)    0.003575\n",
            "5           Hepatitis B Core Antibody (HBcAb)    0.002873\n",
            "18                      Splenomegaly (Spleno)    0.002675\n",
            "0                                      Gender    0.002625\n",
            "7                                   Cirrhosis    0.002400\n",
            "13                Arterial Hypertension (AHT)    0.002383\n",
            "2                                     Alcohol    0.002202\n",
            "11                                    Obesity    0.001866\n",
            "19                  Portal Hypertension (PHT)    0.001854\n",
            "8                 Endemic Countries (Endemic)    0.001712\n",
            "12                 Hemochromatosis (Hemochro)    0.001422\n",
            "16        Nonalcoholic Steatohepatitis (NASH)    0.000645\n",
            "4               Hepatitis B e Antigen (HBeAg)    0.000460\n",
            "15         Human Immunodeficiency Virus (HIV)    0.000352\n",
            "\n",
            "Selected Features:\n",
            "30                  Alpha-Fetoprotein (AFP)\n",
            "40               Alkaline Phosphatase (ALP)\n",
            "31                               Hemoglobin\n",
            "48                                 Ferritin\n",
            "46                                     Iron\n",
            "39         Gamma Glutamyl Transferase (GGT)\n",
            "38             Aspartate Transaminase (AST)\n",
            "44    Major Dimension of Nodule (Major Dim)\n",
            "23                   Age at diagnosis (Age)\n",
            "45              Direct Bilirubin (Dir. Bil)\n",
            "26                  Performance Status (PS)\n",
            "33                               Leukocytes\n",
            "34                                Platelets\n",
            "32            Mean Corpuscular Volume (MCV)\n",
            "36              Total Bilirubin (Total Bil)\n",
            "29     International Normalised Ratio (INR)\n",
            "42                               Creatinine\n",
            "37               Alanine Transaminase (ALT)\n",
            "41                      Total Proteins (TP)\n",
            "35                                  Albumin\n",
            "28                           Ascites degree\n",
            "47                  Oxygen Saturation (Sat)\n",
            "24     Grams of Alcohol per day (Grams/day)\n",
            "21            Liver Metastasis (Metastasis)\n",
            "Name: Feature, dtype: object\n"
          ]
        }
      ]
    },
    {
      "cell_type": "markdown",
      "source": [
        "## SMOTE"
      ],
      "metadata": {
        "id": "Eoq8chba1Djf"
      }
    },
    {
      "cell_type": "code",
      "source": [
        "smote = SMOTE(random_state=177)\n",
        "X_train_resampled, y_train_resampled = smote.fit_resample(X_train_rf, y_train)"
      ],
      "metadata": {
        "colab": {
          "base_uri": "https://localhost:8080/"
        },
        "outputId": "86c4d417-e694-451c-c1e1-00514a718eab",
        "id": "ZRdfhXvD1Djf"
      },
      "execution_count": null,
      "outputs": [
        {
          "output_type": "stream",
          "name": "stderr",
          "text": [
            "/usr/local/lib/python3.10/dist-packages/sklearn/base.py:474: FutureWarning: `BaseEstimator._validate_data` is deprecated in 1.6 and will be removed in 1.7. Use `sklearn.utils.validation.validate_data` instead. This function becomes public and is part of the scikit-learn developer API.\n",
            "  warnings.warn(\n",
            "/usr/local/lib/python3.10/dist-packages/sklearn/utils/_tags.py:354: FutureWarning: The SMOTE or classes from which it inherits use `_get_tags` and `_more_tags`. Please define the `__sklearn_tags__` method, or inherit from `sklearn.base.BaseEstimator` and/or other appropriate mixins such as `sklearn.base.TransformerMixin`, `sklearn.base.ClassifierMixin`, `sklearn.base.RegressorMixin`, and `sklearn.base.OutlierMixin`. From scikit-learn 1.7, not defining `__sklearn_tags__` will raise an error.\n",
            "  warnings.warn(\n"
          ]
        }
      ]
    },
    {
      "cell_type": "markdown",
      "source": [
        "### XGBoost"
      ],
      "metadata": {
        "id": "uZGbtEoF1Djg"
      }
    },
    {
      "cell_type": "code",
      "source": [
        "# Train the XGBoost model\n",
        "# Initialize the XGBoost classifier\n",
        "xgb_model = xgb.XGBClassifier(use_label_encoder=False, eval_metric='mlogloss', random_state=177)\n",
        "\n",
        "# Train the model\n",
        "xgb_model.fit(X_train_resampled, y_train_resampled)\n",
        "\n",
        "# Make predictions on the test set\n",
        "y_pred_xgb = xgb_model.predict(X_test_rf)\n",
        "\n",
        "# Evaluate the model\n",
        "# Accuracy score\n",
        "accuracy = accuracy_score(y_test, y_pred_xgb)\n",
        "print(f\"Accuracy: {accuracy:.4f}\")\n",
        "\n",
        "# Classification report for more detailed metrics\n",
        "print(\"\\nClassification Report:\")\n",
        "print(classification_report(y_test, y_pred_xgb))\n",
        "\n",
        "# Confusion matrix\n",
        "print(\"\\nConfusion Matrix:\")\n",
        "print(confusion_matrix(y_test, y_pred_xgb))"
      ],
      "metadata": {
        "colab": {
          "base_uri": "https://localhost:8080/"
        },
        "outputId": "b75ff388-8505-42ee-e8c0-1881a50b4e22",
        "id": "dfhZ05lf1Djh"
      },
      "execution_count": null,
      "outputs": [
        {
          "output_type": "stream",
          "name": "stdout",
          "text": [
            "Accuracy: 0.6364\n",
            "\n",
            "Classification Report:\n",
            "              precision    recall  f1-score   support\n",
            "\n",
            "           0       0.54      0.54      0.54        13\n",
            "           1       0.70      0.70      0.70        20\n",
            "\n",
            "    accuracy                           0.64        33\n",
            "   macro avg       0.62      0.62      0.62        33\n",
            "weighted avg       0.64      0.64      0.64        33\n",
            "\n",
            "\n",
            "Confusion Matrix:\n",
            "[[ 7  6]\n",
            " [ 6 14]]\n"
          ]
        },
        {
          "output_type": "stream",
          "name": "stderr",
          "text": [
            "/usr/local/lib/python3.10/dist-packages/xgboost/core.py:158: UserWarning: [12:53:08] WARNING: /workspace/src/learner.cc:740: \n",
            "Parameters: { \"use_label_encoder\" } are not used.\n",
            "\n",
            "  warnings.warn(smsg, UserWarning)\n"
          ]
        }
      ]
    },
    {
      "cell_type": "markdown",
      "source": [
        "### Random Forest"
      ],
      "metadata": {
        "id": "FgQnbwsM1Djh"
      }
    },
    {
      "cell_type": "code",
      "source": [
        "# Train the Random Forest model\n",
        "# Initialize the Random Forest classifier\n",
        "rf_model = RandomForestClassifier(n_estimators=100, random_state=177)\n",
        "\n",
        "# Train the model\n",
        "rf_model.fit(X_train_resampled, y_train_resampled)\n",
        "\n",
        "# Make predictions on the test set\n",
        "y_pred_rf = rf_model.predict(X_test_rf)\n",
        "\n",
        "# Evaluate the model\n",
        "# Accuracy score\n",
        "accuracy_rf = accuracy_score(y_test, y_pred_rf)\n",
        "print(f\"Accuracy: {accuracy_rf:.4f}\")\n",
        "\n",
        "# Classification report for more detailed metrics\n",
        "print(\"\\nClassification Report:\")\n",
        "print(classification_report(y_test, y_pred_rf))\n",
        "\n",
        "# Confusion matrix\n",
        "print(\"\\nConfusion Matrix:\")\n",
        "print(confusion_matrix(y_test, y_pred_rf))\n"
      ],
      "metadata": {
        "colab": {
          "base_uri": "https://localhost:8080/"
        },
        "outputId": "f5cfe2be-088c-4656-dffd-f2d83945a391",
        "id": "SxsmipHR1Dji"
      },
      "execution_count": null,
      "outputs": [
        {
          "output_type": "stream",
          "name": "stdout",
          "text": [
            "Accuracy: 0.6667\n",
            "\n",
            "Classification Report:\n",
            "              precision    recall  f1-score   support\n",
            "\n",
            "           0       0.60      0.46      0.52        13\n",
            "           1       0.70      0.80      0.74        20\n",
            "\n",
            "    accuracy                           0.67        33\n",
            "   macro avg       0.65      0.63      0.63        33\n",
            "weighted avg       0.66      0.67      0.66        33\n",
            "\n",
            "\n",
            "Confusion Matrix:\n",
            "[[ 6  7]\n",
            " [ 4 16]]\n"
          ]
        }
      ]
    },
    {
      "cell_type": "markdown",
      "source": [
        "### SVM"
      ],
      "metadata": {
        "id": "cJ-MyRHl1Djj"
      }
    },
    {
      "cell_type": "code",
      "source": [
        "# Initialize the SVM classifier (you can use 'linear', 'rbf', 'poly' kernels as needed)\n",
        "svm_model = SVC(kernel='linear', random_state=177)\n",
        "\n",
        "# Train the SVM model\n",
        "svm_model.fit(X_train_resampled, y_train_resampled)\n",
        "\n",
        "# Make predictions on the test set\n",
        "y_pred_svm = svm_model.predict(X_test_rf)\n",
        "\n",
        "# Evaluate the model\n",
        "# Accuracy score\n",
        "accuracy_svm = accuracy_score(y_test, y_pred_svm)\n",
        "print(f\"Accuracy: {accuracy_svm:.4f}\")\n",
        "\n",
        "# Classification report for more detailed metrics\n",
        "print(\"\\nClassification Report:\")\n",
        "print(classification_report(y_test, y_pred_svm))\n",
        "\n",
        "# Confusion matrix\n",
        "print(\"\\nConfusion Matrix:\")\n",
        "print(confusion_matrix(y_test, y_pred_svm))"
      ],
      "metadata": {
        "colab": {
          "base_uri": "https://localhost:8080/"
        },
        "outputId": "713bb5a2-a0fc-41aa-ba27-1505911ac277",
        "id": "X26OTC621Djk"
      },
      "execution_count": null,
      "outputs": [
        {
          "output_type": "stream",
          "name": "stdout",
          "text": [
            "Accuracy: 0.7273\n",
            "\n",
            "Classification Report:\n",
            "              precision    recall  f1-score   support\n",
            "\n",
            "           0       0.61      0.85      0.71        13\n",
            "           1       0.87      0.65      0.74        20\n",
            "\n",
            "    accuracy                           0.73        33\n",
            "   macro avg       0.74      0.75      0.73        33\n",
            "weighted avg       0.77      0.73      0.73        33\n",
            "\n",
            "\n",
            "Confusion Matrix:\n",
            "[[11  2]\n",
            " [ 7 13]]\n"
          ]
        }
      ]
    },
    {
      "cell_type": "markdown",
      "source": [
        "## Without SMOTE"
      ],
      "metadata": {
        "id": "PyniwU_k1Djl"
      }
    },
    {
      "cell_type": "markdown",
      "source": [
        "### XGBoost"
      ],
      "metadata": {
        "id": "3o8LoT_L1Djl"
      }
    },
    {
      "cell_type": "code",
      "source": [
        "# Train the XGBoost model\n",
        "# Initialize the XGBoost classifier\n",
        "xgb_model = xgb.XGBClassifier(use_label_encoder=False, eval_metric='mlogloss', random_state=177)\n",
        "\n",
        "# Train the model\n",
        "xgb_model.fit(X_train_rf, y_train)\n",
        "\n",
        "# Make predictions on the test set\n",
        "y_pred_xgb = xgb_model.predict(X_test_rf)\n",
        "\n",
        "# Evaluate the model\n",
        "# Accuracy score\n",
        "accuracy = accuracy_score(y_test, y_pred_xgb)\n",
        "print(f\"Accuracy: {accuracy:.4f}\")\n",
        "\n",
        "# Classification report for more detailed metrics\n",
        "print(\"\\nClassification Report:\")\n",
        "print(classification_report(y_test, y_pred_xgb))\n",
        "\n",
        "# Confusion matrix\n",
        "print(\"\\nConfusion Matrix:\")\n",
        "print(confusion_matrix(y_test, y_pred_xgb))"
      ],
      "metadata": {
        "colab": {
          "base_uri": "https://localhost:8080/"
        },
        "outputId": "6e2173a2-742c-4279-ad1d-66db0a1ede3d",
        "id": "TqA50XXu1Djm"
      },
      "execution_count": null,
      "outputs": [
        {
          "output_type": "stream",
          "name": "stdout",
          "text": [
            "Accuracy: 0.6970\n",
            "\n",
            "Classification Report:\n",
            "              precision    recall  f1-score   support\n",
            "\n",
            "           0       0.62      0.62      0.62        13\n",
            "           1       0.75      0.75      0.75        20\n",
            "\n",
            "    accuracy                           0.70        33\n",
            "   macro avg       0.68      0.68      0.68        33\n",
            "weighted avg       0.70      0.70      0.70        33\n",
            "\n",
            "\n",
            "Confusion Matrix:\n",
            "[[ 8  5]\n",
            " [ 5 15]]\n"
          ]
        },
        {
          "output_type": "stream",
          "name": "stderr",
          "text": [
            "/usr/local/lib/python3.10/dist-packages/xgboost/core.py:158: UserWarning: [12:53:08] WARNING: /workspace/src/learner.cc:740: \n",
            "Parameters: { \"use_label_encoder\" } are not used.\n",
            "\n",
            "  warnings.warn(smsg, UserWarning)\n"
          ]
        }
      ]
    },
    {
      "cell_type": "markdown",
      "source": [
        "### Random Forest"
      ],
      "metadata": {
        "id": "oHaLmiJ51Djm"
      }
    },
    {
      "cell_type": "code",
      "source": [
        "# Train the Random Forest model\n",
        "# Initialize the Random Forest classifier\n",
        "rf_model = RandomForestClassifier(n_estimators=100, random_state=177)\n",
        "\n",
        "# Train the model\n",
        "rf_model.fit(X_train_rf, y_train)\n",
        "\n",
        "# Make predictions on the test set\n",
        "y_pred_rf = rf_model.predict(X_test_rf)\n",
        "\n",
        "# Evaluate the model\n",
        "# Accuracy score\n",
        "accuracy_rf = accuracy_score(y_test, y_pred_rf)\n",
        "print(f\"Accuracy: {accuracy_rf:.4f}\")\n",
        "\n",
        "# Classification report for more detailed metrics\n",
        "print(\"\\nClassification Report:\")\n",
        "print(classification_report(y_test, y_pred_rf))\n",
        "\n",
        "# Confusion matrix\n",
        "print(\"\\nConfusion Matrix:\")\n",
        "print(confusion_matrix(y_test, y_pred_rf))\n"
      ],
      "metadata": {
        "colab": {
          "base_uri": "https://localhost:8080/"
        },
        "outputId": "1962bebc-3d3b-41b2-cadf-2e28189f98c8",
        "id": "-146yg9s1Djn"
      },
      "execution_count": null,
      "outputs": [
        {
          "output_type": "stream",
          "name": "stdout",
          "text": [
            "Accuracy: 0.6667\n",
            "\n",
            "Classification Report:\n",
            "              precision    recall  f1-score   support\n",
            "\n",
            "           0       0.60      0.46      0.52        13\n",
            "           1       0.70      0.80      0.74        20\n",
            "\n",
            "    accuracy                           0.67        33\n",
            "   macro avg       0.65      0.63      0.63        33\n",
            "weighted avg       0.66      0.67      0.66        33\n",
            "\n",
            "\n",
            "Confusion Matrix:\n",
            "[[ 6  7]\n",
            " [ 4 16]]\n"
          ]
        }
      ]
    },
    {
      "cell_type": "markdown",
      "source": [
        "### SVM"
      ],
      "metadata": {
        "id": "54LN5_yR1Djn"
      }
    },
    {
      "cell_type": "code",
      "source": [
        "# Initialize the SVM classifier (you can use 'linear', 'rbf', 'poly' kernels as needed)\n",
        "svm_model = SVC(kernel='linear', random_state=177)\n",
        "\n",
        "# Train the SVM model\n",
        "svm_model.fit(X_train_rf, y_train)\n",
        "\n",
        "# Make predictions on the test set\n",
        "y_pred_svm = svm_model.predict(X_test_rf)\n",
        "\n",
        "# Evaluate the model\n",
        "# Accuracy score\n",
        "accuracy_svm = accuracy_score(y_test, y_pred_svm)\n",
        "print(f\"Accuracy: {accuracy_svm:.4f}\")\n",
        "\n",
        "# Classification report for more detailed metrics\n",
        "print(\"\\nClassification Report:\")\n",
        "print(classification_report(y_test, y_pred_svm))\n",
        "\n",
        "# Confusion matrix\n",
        "print(\"\\nConfusion Matrix:\")\n",
        "print(confusion_matrix(y_test, y_pred_svm))"
      ],
      "metadata": {
        "colab": {
          "base_uri": "https://localhost:8080/"
        },
        "outputId": "bee7f63d-7156-4349-a564-d7db620ce1db",
        "id": "Z4XwXoZs1Djn"
      },
      "execution_count": null,
      "outputs": [
        {
          "output_type": "stream",
          "name": "stdout",
          "text": [
            "Accuracy: 0.7273\n",
            "\n",
            "Classification Report:\n",
            "              precision    recall  f1-score   support\n",
            "\n",
            "           0       0.62      0.77      0.69        13\n",
            "           1       0.82      0.70      0.76        20\n",
            "\n",
            "    accuracy                           0.73        33\n",
            "   macro avg       0.72      0.73      0.72        33\n",
            "weighted avg       0.75      0.73      0.73        33\n",
            "\n",
            "\n",
            "Confusion Matrix:\n",
            "[[10  3]\n",
            " [ 6 14]]\n"
          ]
        }
      ]
    },
    {
      "cell_type": "markdown",
      "source": [
        "# With Feature Selection [using SVM]\n",
        "\n"
      ],
      "metadata": {
        "id": "S-lOOhcMUI19"
      }
    },
    {
      "cell_type": "code",
      "source": [
        "# Initialize the XGBoost classifier\n",
        "svc_fs = SVC(kernel='linear', random_state=177)\n",
        "\n",
        "# Initialize RFE with the SVM classifier and specify the number of features to select\n",
        "n_features_to_select = 10  # Adjust this based on your requirements\n",
        "rfe = RFE(estimator=svc_fs, n_features_to_select=n_features_to_select)\n",
        "\n",
        "# Fit RFE on the training data\n",
        "rfe.fit(X_train, y_train)\n",
        "\n",
        "# Get the ranking of features and support mask\n",
        "ranking = rfe.ranking_\n",
        "support = rfe.support_\n",
        "\n",
        "# Select the features based on the mask\n",
        "selected_features_svc = X_train.columns[support]\n",
        "print(\"\\nSelected Features:\")\n",
        "print(selected_features_svc)\n",
        "\n",
        "# Reduce the training and test datasets to the selected features\n",
        "X_train_svc = X_train[selected_features_svc]\n",
        "X_test_svc = X_test[selected_features_svc]"
      ],
      "metadata": {
        "colab": {
          "base_uri": "https://localhost:8080/"
        },
        "outputId": "ba10fa5c-012f-4707-c3f2-ac8e4cbb7b76",
        "id": "NKSqGDamUI1_"
      },
      "execution_count": null,
      "outputs": [
        {
          "output_type": "stream",
          "name": "stdout",
          "text": [
            "\n",
            "Selected Features:\n",
            "Index(['Symptoms', 'Diabetes', 'Human Immunodeficiency Virus (HIV)',\n",
            "       'International Normalised Ratio (INR)', 'Alpha-Fetoprotein (AFP)',\n",
            "       'Total Bilirubin (Total Bil)', 'Alkaline Phosphatase (ALP)',\n",
            "       'Creatinine', 'Iron', 'Ferritin'],\n",
            "      dtype='object')\n"
          ]
        }
      ]
    },
    {
      "cell_type": "markdown",
      "source": [
        "## SMOTE"
      ],
      "metadata": {
        "id": "4pChnA6iUI2A"
      }
    },
    {
      "cell_type": "code",
      "source": [
        "smote = SMOTE(random_state=177)\n",
        "X_train_resampled, y_train_resampled = smote.fit_resample(X_train_svc, y_train)"
      ],
      "metadata": {
        "colab": {
          "base_uri": "https://localhost:8080/"
        },
        "outputId": "3b5019c9-60d6-4556-e0c8-e533153bc46e",
        "id": "RRGAiBzOUI2B"
      },
      "execution_count": null,
      "outputs": [
        {
          "output_type": "stream",
          "name": "stderr",
          "text": [
            "/usr/local/lib/python3.10/dist-packages/sklearn/base.py:474: FutureWarning: `BaseEstimator._validate_data` is deprecated in 1.6 and will be removed in 1.7. Use `sklearn.utils.validation.validate_data` instead. This function becomes public and is part of the scikit-learn developer API.\n",
            "  warnings.warn(\n",
            "/usr/local/lib/python3.10/dist-packages/sklearn/utils/_tags.py:354: FutureWarning: The SMOTE or classes from which it inherits use `_get_tags` and `_more_tags`. Please define the `__sklearn_tags__` method, or inherit from `sklearn.base.BaseEstimator` and/or other appropriate mixins such as `sklearn.base.TransformerMixin`, `sklearn.base.ClassifierMixin`, `sklearn.base.RegressorMixin`, and `sklearn.base.OutlierMixin`. From scikit-learn 1.7, not defining `__sklearn_tags__` will raise an error.\n",
            "  warnings.warn(\n"
          ]
        }
      ]
    },
    {
      "cell_type": "markdown",
      "source": [
        "### XGBoost"
      ],
      "metadata": {
        "id": "foP_tKBYUI2C"
      }
    },
    {
      "cell_type": "code",
      "source": [
        "# Train the XGBoost model\n",
        "# Initialize the XGBoost classifier\n",
        "xgb_model = xgb.XGBClassifier(use_label_encoder=False, eval_metric='mlogloss', random_state=177)\n",
        "\n",
        "# Train the model\n",
        "xgb_model.fit(X_train_resampled, y_train_resampled)\n",
        "\n",
        "# Make predictions on the test set\n",
        "y_pred_xgb = xgb_model.predict(X_test_svc)\n",
        "\n",
        "# Evaluate the model\n",
        "# Accuracy score\n",
        "accuracy = accuracy_score(y_test, y_pred_xgb)\n",
        "print(f\"Accuracy: {accuracy:.4f}\")\n",
        "\n",
        "# Classification report for more detailed metrics\n",
        "print(\"\\nClassification Report:\")\n",
        "print(classification_report(y_test, y_pred_xgb))\n",
        "\n",
        "# Confusion matrix\n",
        "print(\"\\nConfusion Matrix:\")\n",
        "print(confusion_matrix(y_test, y_pred_xgb))"
      ],
      "metadata": {
        "colab": {
          "base_uri": "https://localhost:8080/"
        },
        "outputId": "ece20d5f-07b2-42ba-bcbd-7515a9b5df9e",
        "id": "3iXhqe9XUI2C"
      },
      "execution_count": null,
      "outputs": [
        {
          "output_type": "stream",
          "name": "stdout",
          "text": [
            "Accuracy: 0.5758\n",
            "\n",
            "Classification Report:\n",
            "              precision    recall  f1-score   support\n",
            "\n",
            "           0       0.47      0.54      0.50        13\n",
            "           1       0.67      0.60      0.63        20\n",
            "\n",
            "    accuracy                           0.58        33\n",
            "   macro avg       0.57      0.57      0.57        33\n",
            "weighted avg       0.59      0.58      0.58        33\n",
            "\n",
            "\n",
            "Confusion Matrix:\n",
            "[[ 7  6]\n",
            " [ 8 12]]\n"
          ]
        },
        {
          "output_type": "stream",
          "name": "stderr",
          "text": [
            "/usr/local/lib/python3.10/dist-packages/xgboost/core.py:158: UserWarning: [12:53:08] WARNING: /workspace/src/learner.cc:740: \n",
            "Parameters: { \"use_label_encoder\" } are not used.\n",
            "\n",
            "  warnings.warn(smsg, UserWarning)\n"
          ]
        }
      ]
    },
    {
      "cell_type": "markdown",
      "source": [
        "### Random Forest"
      ],
      "metadata": {
        "id": "cLQskjDIUI2D"
      }
    },
    {
      "cell_type": "code",
      "source": [
        "# Train the Random Forest model\n",
        "# Initialize the Random Forest classifier\n",
        "rf_model = RandomForestClassifier(n_estimators=100, random_state=177)\n",
        "\n",
        "# Train the model\n",
        "rf_model.fit(X_train_resampled, y_train_resampled)\n",
        "\n",
        "# Make predictions on the test set\n",
        "y_pred_rf = rf_model.predict(X_test_svc)\n",
        "\n",
        "# Evaluate the model\n",
        "# Accuracy score\n",
        "accuracy_rf = accuracy_score(y_test, y_pred_rf)\n",
        "print(f\"Accuracy: {accuracy_rf:.4f}\")\n",
        "\n",
        "# Classification report for more detailed metrics\n",
        "print(\"\\nClassification Report:\")\n",
        "print(classification_report(y_test, y_pred_rf))\n",
        "\n",
        "# Confusion matrix\n",
        "print(\"\\nConfusion Matrix:\")\n",
        "print(confusion_matrix(y_test, y_pred_rf))\n"
      ],
      "metadata": {
        "colab": {
          "base_uri": "https://localhost:8080/"
        },
        "outputId": "663122ac-e3ef-4fc2-b8ad-c155e5922a8f",
        "id": "ai4tJv3aUI2E"
      },
      "execution_count": null,
      "outputs": [
        {
          "output_type": "stream",
          "name": "stdout",
          "text": [
            "Accuracy: 0.5455\n",
            "\n",
            "Classification Report:\n",
            "              precision    recall  f1-score   support\n",
            "\n",
            "           0       0.43      0.46      0.44        13\n",
            "           1       0.63      0.60      0.62        20\n",
            "\n",
            "    accuracy                           0.55        33\n",
            "   macro avg       0.53      0.53      0.53        33\n",
            "weighted avg       0.55      0.55      0.55        33\n",
            "\n",
            "\n",
            "Confusion Matrix:\n",
            "[[ 6  7]\n",
            " [ 8 12]]\n"
          ]
        }
      ]
    },
    {
      "cell_type": "markdown",
      "source": [
        "### SVM"
      ],
      "metadata": {
        "id": "bOg1A8ExUI2E"
      }
    },
    {
      "cell_type": "code",
      "source": [
        "# Initialize the SVM classifier (you can use 'linear', 'rbf', 'poly' kernels as needed)\n",
        "svm_model = SVC(kernel='linear', random_state=177)\n",
        "\n",
        "# Train the SVM model\n",
        "svm_model.fit(X_train_resampled, y_train_resampled)\n",
        "\n",
        "# Make predictions on the test set\n",
        "y_pred_svm = svm_model.predict(X_test_svc)\n",
        "\n",
        "# Evaluate the model\n",
        "# Accuracy score\n",
        "accuracy_svm = accuracy_score(y_test, y_pred_svm)\n",
        "print(f\"Accuracy: {accuracy_svm:.4f}\")\n",
        "\n",
        "# Classification report for more detailed metrics\n",
        "print(\"\\nClassification Report:\")\n",
        "print(classification_report(y_test, y_pred_svm))\n",
        "\n",
        "# Confusion matrix\n",
        "print(\"\\nConfusion Matrix:\")\n",
        "print(confusion_matrix(y_test, y_pred_svm))"
      ],
      "metadata": {
        "colab": {
          "base_uri": "https://localhost:8080/"
        },
        "outputId": "77e59086-be65-4400-fda5-92af5e682034",
        "id": "KSsufnOIUI2F"
      },
      "execution_count": null,
      "outputs": [
        {
          "output_type": "stream",
          "name": "stdout",
          "text": [
            "Accuracy: 0.6667\n",
            "\n",
            "Classification Report:\n",
            "              precision    recall  f1-score   support\n",
            "\n",
            "           0       0.56      0.69      0.62        13\n",
            "           1       0.76      0.65      0.70        20\n",
            "\n",
            "    accuracy                           0.67        33\n",
            "   macro avg       0.66      0.67      0.66        33\n",
            "weighted avg       0.69      0.67      0.67        33\n",
            "\n",
            "\n",
            "Confusion Matrix:\n",
            "[[ 9  4]\n",
            " [ 7 13]]\n"
          ]
        }
      ]
    },
    {
      "cell_type": "markdown",
      "source": [
        "## Without SMOTE"
      ],
      "metadata": {
        "id": "iR7GwbpBUI2F"
      }
    },
    {
      "cell_type": "markdown",
      "source": [
        "### XGBoost"
      ],
      "metadata": {
        "id": "P4Bh4UoyUI2G"
      }
    },
    {
      "cell_type": "code",
      "source": [
        "# Train the XGBoost model\n",
        "# Initialize the XGBoost classifier\n",
        "xgb_model = xgb.XGBClassifier(use_label_encoder=False, eval_metric='mlogloss', random_state=177)\n",
        "\n",
        "# Train the model\n",
        "xgb_model.fit(X_train_svc, y_train)\n",
        "\n",
        "# Make predictions on the test set\n",
        "y_pred_xgb = xgb_model.predict(X_test_svc)\n",
        "\n",
        "# Evaluate the model\n",
        "# Accuracy score\n",
        "accuracy = accuracy_score(y_test, y_pred_xgb)\n",
        "print(f\"Accuracy: {accuracy:.4f}\")\n",
        "\n",
        "# Classification report for more detailed metrics\n",
        "print(\"\\nClassification Report:\")\n",
        "print(classification_report(y_test, y_pred_xgb))\n",
        "\n",
        "# Confusion matrix\n",
        "print(\"\\nConfusion Matrix:\")\n",
        "print(confusion_matrix(y_test, y_pred_xgb))"
      ],
      "metadata": {
        "colab": {
          "base_uri": "https://localhost:8080/"
        },
        "outputId": "b2642c47-99f6-4af5-f604-3d467f721cfd",
        "id": "ilWFRw8CUI2H"
      },
      "execution_count": null,
      "outputs": [
        {
          "output_type": "stream",
          "name": "stdout",
          "text": [
            "Accuracy: 0.5758\n",
            "\n",
            "Classification Report:\n",
            "              precision    recall  f1-score   support\n",
            "\n",
            "           0       0.47      0.54      0.50        13\n",
            "           1       0.67      0.60      0.63        20\n",
            "\n",
            "    accuracy                           0.58        33\n",
            "   macro avg       0.57      0.57      0.57        33\n",
            "weighted avg       0.59      0.58      0.58        33\n",
            "\n",
            "\n",
            "Confusion Matrix:\n",
            "[[ 7  6]\n",
            " [ 8 12]]\n"
          ]
        },
        {
          "output_type": "stream",
          "name": "stderr",
          "text": [
            "/usr/local/lib/python3.10/dist-packages/xgboost/core.py:158: UserWarning: [12:53:09] WARNING: /workspace/src/learner.cc:740: \n",
            "Parameters: { \"use_label_encoder\" } are not used.\n",
            "\n",
            "  warnings.warn(smsg, UserWarning)\n"
          ]
        }
      ]
    },
    {
      "cell_type": "markdown",
      "source": [
        "### Random Forest"
      ],
      "metadata": {
        "id": "nxDlfESmUI2H"
      }
    },
    {
      "cell_type": "code",
      "source": [
        "# Train the Random Forest model\n",
        "# Initialize the Random Forest classifier\n",
        "rf_model = RandomForestClassifier(n_estimators=100, random_state=177)\n",
        "\n",
        "# Train the model\n",
        "rf_model.fit(X_train_svc, y_train)\n",
        "\n",
        "# Make predictions on the test set\n",
        "y_pred_rf = rf_model.predict(X_test_svc)\n",
        "\n",
        "# Evaluate the model\n",
        "# Accuracy score\n",
        "accuracy_rf = accuracy_score(y_test, y_pred_rf)\n",
        "print(f\"Accuracy: {accuracy_rf:.4f}\")\n",
        "\n",
        "# Classification report for more detailed metrics\n",
        "print(\"\\nClassification Report:\")\n",
        "print(classification_report(y_test, y_pred_rf))\n",
        "\n",
        "# Confusion matrix\n",
        "print(\"\\nConfusion Matrix:\")\n",
        "print(confusion_matrix(y_test, y_pred_rf))\n"
      ],
      "metadata": {
        "colab": {
          "base_uri": "https://localhost:8080/"
        },
        "outputId": "fba8c220-c29b-4bc2-a032-8ee5cfdd109d",
        "id": "7QbHEMIoUI2H"
      },
      "execution_count": null,
      "outputs": [
        {
          "output_type": "stream",
          "name": "stdout",
          "text": [
            "Accuracy: 0.6364\n",
            "\n",
            "Classification Report:\n",
            "              precision    recall  f1-score   support\n",
            "\n",
            "           0       0.55      0.46      0.50        13\n",
            "           1       0.68      0.75      0.71        20\n",
            "\n",
            "    accuracy                           0.64        33\n",
            "   macro avg       0.61      0.61      0.61        33\n",
            "weighted avg       0.63      0.64      0.63        33\n",
            "\n",
            "\n",
            "Confusion Matrix:\n",
            "[[ 6  7]\n",
            " [ 5 15]]\n"
          ]
        }
      ]
    },
    {
      "cell_type": "markdown",
      "source": [
        "### SVM"
      ],
      "metadata": {
        "id": "A1ILyz4EUI2I"
      }
    },
    {
      "cell_type": "code",
      "source": [
        "# Initialize the SVM classifier (you can use 'linear', 'rbf', 'poly' kernels as needed)\n",
        "svm_model = SVC(kernel='linear', random_state=177)\n",
        "\n",
        "# Train the SVM model\n",
        "svm_model.fit(X_train_svc, y_train)\n",
        "\n",
        "# Make predictions on the test set\n",
        "y_pred_svm = svm_model.predict(X_test_svc)\n",
        "\n",
        "# Evaluate the model\n",
        "# Accuracy score\n",
        "accuracy_svm = accuracy_score(y_test, y_pred_svm)\n",
        "print(f\"Accuracy: {accuracy_svm:.4f}\")\n",
        "\n",
        "# Classification report for more detailed metrics\n",
        "print(\"\\nClassification Report:\")\n",
        "print(classification_report(y_test, y_pred_svm))\n",
        "\n",
        "# Confusion matrix\n",
        "print(\"\\nConfusion Matrix:\")\n",
        "print(confusion_matrix(y_test, y_pred_svm))"
      ],
      "metadata": {
        "colab": {
          "base_uri": "https://localhost:8080/"
        },
        "outputId": "3a2d9b21-acee-4c39-b915-50fb02c1b973",
        "id": "67cIshAwUI2I"
      },
      "execution_count": null,
      "outputs": [
        {
          "output_type": "stream",
          "name": "stdout",
          "text": [
            "Accuracy: 0.6061\n",
            "\n",
            "Classification Report:\n",
            "              precision    recall  f1-score   support\n",
            "\n",
            "           0       0.50      0.38      0.43        13\n",
            "           1       0.65      0.75      0.70        20\n",
            "\n",
            "    accuracy                           0.61        33\n",
            "   macro avg       0.58      0.57      0.57        33\n",
            "weighted avg       0.59      0.61      0.59        33\n",
            "\n",
            "\n",
            "Confusion Matrix:\n",
            "[[ 5  8]\n",
            " [ 5 15]]\n"
          ]
        }
      ]
    },
    {
      "cell_type": "markdown",
      "source": [
        "# Lime for Random Forest w/o FS and w/o SMOTE"
      ],
      "metadata": {
        "id": "PHb5zWsRWKCE"
      }
    },
    {
      "cell_type": "markdown",
      "source": [
        "## Lime (Class 0)"
      ],
      "metadata": {
        "id": "WOcKS_FVC9pG"
      }
    },
    {
      "cell_type": "code",
      "source": [
        "# !pip install lime\n",
        "\n",
        "from sklearn.ensemble import RandomForestClassifier\n",
        "from sklearn.metrics import accuracy_score, classification_report, confusion_matrix\n",
        "from lime.lime_tabular import LimeTabularExplainer\n",
        "import numpy as np\n",
        "import matplotlib.pyplot as plt\n",
        "\n",
        "# Initialize the Random Forest classifier\n",
        "rf_model = RandomForestClassifier(n_estimators=100, random_state=177)\n",
        "\n",
        "# Train the Random Forest model\n",
        "rf_model.fit(X_train_xgb, y_train)\n",
        "\n",
        "# Make predictions\n",
        "y_pred_rf = rf_model.predict(X_test_xgb)\n",
        "\n",
        "# Evaluate the model\n",
        "accuracy_rf = accuracy_score(y_test, y_pred_rf)\n",
        "print(f\"Accuracy: {accuracy_rf:.4f}\")\n",
        "print(\"\\nClassification Report:\")\n",
        "print(classification_report(y_test, y_pred_rf))\n",
        "print(\"\\nConfusion Matrix:\")\n",
        "print(confusion_matrix(y_test, y_pred_rf))\n",
        "\n",
        "# LIME Implementation\n",
        "# Convert to numpy arrays\n",
        "X_train_array = np.array(X_train_xgb)\n",
        "X_test_array = np.array(X_test_xgb)\n",
        "\n",
        "# Define the predict_proba function for Random Forest\n",
        "def predict_proba_rf(X):\n",
        "    return rf_model.predict_proba(X)\n",
        "\n",
        "# Initialize LIME Explainer\n",
        "explainer = LimeTabularExplainer(\n",
        "    training_data=X_train_array,\n",
        "    feature_names=X_train_xgb.columns,\n",
        "    class_names=['Class 0', 'Class 1'],  # Adjust for your classes\n",
        "    mode='classification'\n",
        ")\n",
        "\n",
        "# Explain a prediction\n",
        "sample_instance = X_test_array[0]  # Choose an instance to explain\n",
        "\n",
        "exp = explainer.explain_instance(\n",
        "    sample_instance,\n",
        "    predict_proba_rf,  # Use Random Forest's predict_proba\n",
        "    num_features=10\n",
        ")\n",
        "\n",
        "# Plot the explanation\n",
        "fig = exp.as_pyplot_figure()\n",
        "plt.tight_layout()\n",
        "plt.title(\"LIME Explanation for Random Forest Class 0\")\n",
        "plt.show()\n"
      ],
      "metadata": {
        "colab": {
          "base_uri": "https://localhost:8080/",
          "height": 819
        },
        "id": "37ar21z-WNw6",
        "outputId": "ef31565f-4073-4663-c815-5fe596fbb829"
      },
      "execution_count": null,
      "outputs": [
        {
          "output_type": "stream",
          "name": "stdout",
          "text": [
            "Accuracy: 0.7576\n",
            "\n",
            "Classification Report:\n",
            "              precision    recall  f1-score   support\n",
            "\n",
            "           0       0.78      0.54      0.64        13\n",
            "           1       0.75      0.90      0.82        20\n",
            "\n",
            "    accuracy                           0.76        33\n",
            "   macro avg       0.76      0.72      0.73        33\n",
            "weighted avg       0.76      0.76      0.75        33\n",
            "\n",
            "\n",
            "Confusion Matrix:\n",
            "[[ 7  6]\n",
            " [ 2 18]]\n"
          ]
        },
        {
          "output_type": "stream",
          "name": "stderr",
          "text": [
            "/usr/local/lib/python3.10/dist-packages/sklearn/utils/validation.py:2739: UserWarning: X does not have valid feature names, but RandomForestClassifier was fitted with feature names\n",
            "  warnings.warn(\n"
          ]
        },
        {
          "output_type": "display_data",
          "data": {
            "text/plain": [
              "<Figure size 640x480 with 1 Axes>"
            ],
            "image/png": "[encoded data removed]"
          },
          "metadata": {}
        }
      ]
    },
    {
      "cell_type": "markdown",
      "source": [
        "## Lime (Class 1)"
      ],
      "metadata": {
        "id": "06jnQaDsDC2D"
      }
    },
    {
      "cell_type": "code",
      "source": [
        "from sklearn.ensemble import RandomForestClassifier\n",
        "from sklearn.metrics import accuracy_score, classification_report, confusion_matrix\n",
        "from lime.lime_tabular import LimeTabularExplainer\n",
        "import numpy as np\n",
        "import matplotlib.pyplot as plt\n",
        "\n",
        "# Initialize the Random Forest classifier\n",
        "rf_model = RandomForestClassifier(n_estimators=100, random_state=177)\n",
        "\n",
        "# Train the Random Forest model\n",
        "rf_model.fit(X_train_xgb, y_train)\n",
        "\n",
        "# Make predictions\n",
        "y_pred_rf = rf_model.predict(X_test_xgb)\n",
        "\n",
        "# Evaluate the model\n",
        "accuracy_rf = accuracy_score(y_test, y_pred_rf)\n",
        "print(f\"Accuracy: {accuracy_rf:.4f}\")\n",
        "print(\"\\nClassification Report:\")\n",
        "print(classification_report(y_test, y_pred_rf))\n",
        "print(\"\\nConfusion Matrix:\")\n",
        "print(confusion_matrix(y_test, y_pred_rf))\n",
        "\n",
        "# LIME Implementation\n",
        "# Convert to numpy arrays\n",
        "X_train_array = np.array(X_train_xgb)\n",
        "X_test_array = np.array(X_test_xgb)\n",
        "\n",
        "# Use the predict_proba function for Random Forest\n",
        "def predict_proba_rf(X):\n",
        "    return rf_model.predict_proba(X)\n",
        "\n",
        "# Initialize LIME Explainer\n",
        "explainer = LimeTabularExplainer(\n",
        "    training_data=X_train_array,\n",
        "    feature_names=X_train_xgb.columns,\n",
        "    class_names=['Class 0', 'Class 1'],  # Adjust for your classes\n",
        "    mode='classification'\n",
        ")\n",
        "\n",
        "# Explain a prediction for a specific instance\n",
        "sample_instance = X_test_array[1]  # Choose an instance to explain\n",
        "\n",
        "exp = explainer.explain_instance(\n",
        "    sample_instance,\n",
        "    predict_proba_rf,  # Use Random Forest's predict_proba\n",
        "    num_features=10\n",
        ")\n",
        "\n",
        "# Plot the explanation, focusing on Class 1\n",
        "fig = exp.as_pyplot_figure()\n",
        "plt.tight_layout()\n",
        "plt.title(\"LIME Explanation for Random Forest Class 1\")\n",
        "plt.show()\n"
      ],
      "metadata": {
        "colab": {
          "base_uri": "https://localhost:8080/",
          "height": 819
        },
        "id": "llb3ciKODFUd",
        "outputId": "4e5b5524-c80c-4cb0-9c91-1e1d9dbe4122"
      },
      "execution_count": null,
      "outputs": [
        {
          "output_type": "stream",
          "name": "stdout",
          "text": [
            "Accuracy: 0.7576\n",
            "\n",
            "Classification Report:\n",
            "              precision    recall  f1-score   support\n",
            "\n",
            "           0       0.78      0.54      0.64        13\n",
            "           1       0.75      0.90      0.82        20\n",
            "\n",
            "    accuracy                           0.76        33\n",
            "   macro avg       0.76      0.72      0.73        33\n",
            "weighted avg       0.76      0.76      0.75        33\n",
            "\n",
            "\n",
            "Confusion Matrix:\n",
            "[[ 7  6]\n",
            " [ 2 18]]\n"
          ]
        },
        {
          "output_type": "stream",
          "name": "stderr",
          "text": [
            "/usr/local/lib/python3.10/dist-packages/sklearn/utils/validation.py:2739: UserWarning: X does not have valid feature names, but RandomForestClassifier was fitted with feature names\n",
            "  warnings.warn(\n"
          ]
        },
        {
          "output_type": "display_data",
          "data": {
            "text/plain": [
              "<Figure size 640x480 with 1 Axes>"
            ],
            "image/png": "[encoded data removed]"
          },
          "metadata": {}
        }
      ]
    }
  ]
}